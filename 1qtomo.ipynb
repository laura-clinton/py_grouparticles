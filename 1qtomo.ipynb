{
 "cells": [
  {
   "cell_type": "code",
   "execution_count": 1,
   "metadata": {},
   "outputs": [],
   "source": [
    "from qiskit import transpile, schedule, assemble, execute\n",
    "import pickle\n",
    "import numpy as np\n",
    "import matplotlib.pyplot as plt\n",
    "from qiskit import IBMQ\n",
    "from qiskit.transpiler.passes.scheduling.calibration_creators import RZXCalibrationBuilder\n",
    "from qiskit.circuit import Gate\n",
    "from qiskit.ignis.verification.tomography import process_tomography_circuits, ProcessTomographyFitter, TomographyFitter\n",
    "from qiskit.quantum_info.operators.channel import Choi, Kraus, PTM\n",
    "from qiskit.circuit import QuantumCircuit, QuantumRegister, Gate\n",
    "from qiskit import transpile, schedule, assemble\n",
    "from qiskit.quantum_info.operators.measures import process_fidelity\n",
    "from qiskit.quantum_info import Choi, Kraus, Operator\n",
    "import qiskit.quantum_info as qi"
   ]
  },
  {
   "cell_type": "code",
   "execution_count": 2,
   "metadata": {},
   "outputs": [],
   "source": [
    "provider = IBMQ.load_account()"
   ]
  },
  {
   "cell_type": "code",
   "execution_count": 3,
   "metadata": {},
   "outputs": [],
   "source": [
    "provider_pulse = IBMQ.get_provider(hub='ibm-q-startup', group='phasecraft-ltd', project='pulse-level-cont')\n",
    "#provider_pulse = IBMQ.get_provider(hub='ibm-q-startup', group='phasecraft-ltd', project='reservations')"
   ]
  },
  {
   "cell_type": "code",
   "execution_count": 4,
   "metadata": {},
   "outputs": [],
   "source": [
    "device_name = \"ibmq_casablanca\"\n",
    "backend = provider_pulse.get_backend(device_name)\n",
    "\n",
    "config = backend.configuration()\n",
    "props = backend.properties()\n",
    "defaults = backend.defaults()\n",
    "\n",
    "calibrations = defaults.instruction_schedule_map\n",
    "basis_gates = config.basis_gates\n",
    "inst_map = defaults.instruction_schedule_map\n",
    "#RZX_cals = RZXCalibrationBuilder(backend)"
   ]
  },
  {
   "cell_type": "code",
   "execution_count": 5,
   "metadata": {},
   "outputs": [
    {
     "name": "stderr",
     "output_type": "stream",
     "text": [
      "/home/laura/.local/lib/python3.9/site-packages/qiskit/ignis/verification/tomography/basis/circuits.py:465: DeprecationWarning: The QuantumCircuit.__iadd__() method is being deprecated. Use the compose() (potentially with the inplace=True argument) and tensor() methods which are more flexible w.r.t circuit register compatibility.\n",
      "  prep += preparation(prep_label[j], prep_qubits[j])\n",
      "/home/laura/.local/lib/python3.9/site-packages/qiskit/circuit/quantumcircuit.py:876: DeprecationWarning: The QuantumCircuit.extend() method is being deprecated. Use the compose() (potentially with the inplace=True argument) and tensor() methods which are more flexible w.r.t circuit register compatibility.\n",
      "  return self.extend(rhs)\n",
      "/home/laura/.local/lib/python3.9/site-packages/qiskit/ignis/verification/tomography/basis/circuits.py:478: DeprecationWarning: The QuantumCircuit.__add__() method is being deprecated.Use the compose() method which is more flexible w.r.t circuit register compatibility.\n",
      "  circ = prep + meas\n",
      "/home/laura/.local/lib/python3.9/site-packages/qiskit/circuit/quantumcircuit.py:869: DeprecationWarning: The QuantumCircuit.combine() method is being deprecated. Use the compose() method which is more flexible w.r.t circuit register compatibility.\n",
      "  return self.combine(rhs)\n"
     ]
    }
   ],
   "source": [
    "qpt_experiments = {}\n",
    "\n",
    "qubit = 4\n",
    "\n",
    "phi_angles = np.round(np.linspace(0, np.pi/2, 50), 2)#[ 0.15, 0.2, 0.25, 0.3, 0.35] #[0.025, 0.05 ,0.075]  #[0.125, 0.175, 0.225]#, 0.8] #[0.1, 0.15, 0.2, 0.25, 0.3, 0.35]# [0.4, 0.45, 0.5, 0.55, 0.6]\n",
    "\n",
    "for phi in phi_angles:\n",
    "    \n",
    "    \n",
    "    qregs = QuantumRegister(config.n_qubits)\n",
    "    \n",
    "    qc = QuantumCircuit(qregs)\n",
    "    \n",
    "    qc.rz(phi, (qregs[qubit]))\n",
    "    \n",
    "    qpt_circuits = process_tomography_circuits(qc, [qubit])\n",
    "                                            \n",
    "    qpt_circuits_transpiled = transpile(qpt_circuits, backend, basis_gates)\n",
    "    \n",
    "   \n",
    "    \n",
    "    qpt_experiments[str(phi)] = {'pre_transpiled_circuits': qpt_circuits,\n",
    "                                   'transpiled_circuits': qpt_circuits_transpiled}"
   ]
  },
  {
   "cell_type": "code",
   "execution_count": 6,
   "metadata": {},
   "outputs": [
    {
     "data": {
      "text/plain": [
       "array([0.  , 0.03, 0.06, 0.1 , 0.13, 0.16, 0.19, 0.22, 0.26, 0.29, 0.32,\n",
       "       0.35, 0.38, 0.42, 0.45, 0.48, 0.51, 0.54, 0.58, 0.61, 0.64, 0.67,\n",
       "       0.71, 0.74, 0.77, 0.8 , 0.83, 0.87, 0.9 , 0.93, 0.96, 0.99, 1.03,\n",
       "       1.06, 1.09, 1.12, 1.15, 1.19, 1.22, 1.25, 1.28, 1.31, 1.35, 1.38,\n",
       "       1.41, 1.44, 1.47, 1.51, 1.54, 1.57])"
      ]
     },
     "execution_count": 6,
     "metadata": {},
     "output_type": "execute_result"
    }
   ],
   "source": [
    "phi_angles"
   ]
  },
  {
   "cell_type": "code",
   "execution_count": 7,
   "metadata": {},
   "outputs": [
    {
     "data": {
      "text/html": [
       "<pre style=\"word-wrap: normal;white-space: pre;background: #fff0;line-height: 1.1;font-family: &quot;Courier New&quot;,Courier,monospace\">       ░              ░         \n",
       "q1_0: ─░──────────────░─────────\n",
       "       ░              ░         \n",
       "q1_1: ─░──────────────░─────────\n",
       "       ░              ░         \n",
       "q1_2: ─░──────────────░─────────\n",
       "       ░              ░         \n",
       "q1_3: ─░──────────────░─────────\n",
       "       ░ ┌──────────┐ ░ ┌───┐┌─┐\n",
       "q1_4: ─░─┤ RZ(0.03) ├─░─┤ H ├┤M├\n",
       "       ░ └──────────┘ ░ └───┘└╥┘\n",
       "q1_5: ─░──────────────░───────╫─\n",
       "       ░              ░       ║ \n",
       "q1_6: ─░──────────────░───────╫─\n",
       "       ░              ░       ║ \n",
       "c1: 1/════════════════════════╩═\n",
       "                              0 </pre>"
      ],
      "text/plain": [
       "       ░              ░         \n",
       "q1_0: ─░──────────────░─────────\n",
       "       ░              ░         \n",
       "q1_1: ─░──────────────░─────────\n",
       "       ░              ░         \n",
       "q1_2: ─░──────────────░─────────\n",
       "       ░              ░         \n",
       "q1_3: ─░──────────────░─────────\n",
       "       ░ ┌──────────┐ ░ ┌───┐┌─┐\n",
       "q1_4: ─░─┤ RZ(0.03) ├─░─┤ H ├┤M├\n",
       "       ░ └──────────┘ ░ └───┘└╥┘\n",
       "q1_5: ─░──────────────░───────╫─\n",
       "       ░              ░       ║ \n",
       "q1_6: ─░──────────────░───────╫─\n",
       "       ░              ░       ║ \n",
       "c1: 1/════════════════════════╩═\n",
       "                              0 "
      ]
     },
     "execution_count": 7,
     "metadata": {},
     "output_type": "execute_result"
    }
   ],
   "source": [
    "qpt_experiments['0.03']['pre_transpiled_circuits'][0].draw()"
   ]
  },
  {
   "cell_type": "code",
   "execution_count": 8,
   "metadata": {},
   "outputs": [
    {
     "data": {
      "text/html": [
       "<pre style=\"word-wrap: normal;white-space: pre;background: #fff0;line-height: 1.1;font-family: &quot;Courier New&quot;,Courier,monospace\">global phase: π/4\n",
       "           ░              ░                                \n",
       "q1_0 -> 0 ─░──────────────░────────────────────────────────\n",
       "           ░              ░                                \n",
       "q1_1 -> 1 ─░──────────────░────────────────────────────────\n",
       "           ░              ░                                \n",
       "q1_2 -> 2 ─░──────────────░────────────────────────────────\n",
       "           ░              ░                                \n",
       "q1_3 -> 3 ─░──────────────░────────────────────────────────\n",
       "           ░ ┌──────────┐ ░ ┌─────────┐┌────┐┌─────────┐┌─┐\n",
       "q1_4 -> 4 ─░─┤ RZ(0.03) ├─░─┤ RZ(π/2) ├┤ √X ├┤ RZ(π/2) ├┤M├\n",
       "           ░ └──────────┘ ░ └─────────┘└────┘└─────────┘└╥┘\n",
       "q1_5 -> 5 ─░──────────────░──────────────────────────────╫─\n",
       "           ░              ░                              ║ \n",
       "q1_6 -> 6 ─░──────────────░──────────────────────────────╫─\n",
       "           ░              ░                              ║ \n",
       "    c1: 1/═══════════════════════════════════════════════╩═\n",
       "                                                         0 </pre>"
      ],
      "text/plain": [
       "global phase: π/4\n",
       "           ░              ░                                \n",
       "q1_0 -> 0 ─░──────────────░────────────────────────────────\n",
       "           ░              ░                                \n",
       "q1_1 -> 1 ─░──────────────░────────────────────────────────\n",
       "           ░              ░                                \n",
       "q1_2 -> 2 ─░──────────────░────────────────────────────────\n",
       "           ░              ░                                \n",
       "q1_3 -> 3 ─░──────────────░────────────────────────────────\n",
       "           ░ ┌──────────┐ ░ ┌─────────┐┌────┐┌─────────┐┌─┐\n",
       "q1_4 -> 4 ─░─┤ RZ(0.03) ├─░─┤ RZ(π/2) ├┤ √X ├┤ RZ(π/2) ├┤M├\n",
       "           ░ └──────────┘ ░ └─────────┘└────┘└─────────┘└╥┘\n",
       "q1_5 -> 5 ─░──────────────░──────────────────────────────╫─\n",
       "           ░              ░                              ║ \n",
       "q1_6 -> 6 ─░──────────────░──────────────────────────────╫─\n",
       "           ░              ░                              ║ \n",
       "    c1: 1/═══════════════════════════════════════════════╩═\n",
       "                                                         0 "
      ]
     },
     "execution_count": 8,
     "metadata": {},
     "output_type": "execute_result"
    }
   ],
   "source": [
    "qpt_experiments['0.03']['transpiled_circuits'][0].draw()"
   ]
  },
  {
   "cell_type": "code",
   "execution_count": 9,
   "metadata": {},
   "outputs": [
    {
     "name": "stdout",
     "output_type": "stream",
     "text": [
      "0.0\n",
      "0.03\n",
      "0.06\n",
      "0.1\n",
      "0.13\n",
      "0.16\n",
      "0.19\n",
      "0.22\n",
      "0.26\n",
      "0.29\n",
      "0.32\n",
      "0.35\n",
      "0.38\n",
      "0.42\n",
      "0.45\n",
      "0.48\n",
      "0.51\n",
      "0.54\n",
      "0.58\n",
      "0.61\n",
      "0.64\n",
      "0.67\n",
      "0.71\n",
      "0.74\n",
      "0.77\n",
      "0.8\n",
      "0.83\n",
      "0.87\n",
      "0.9\n",
      "0.93\n",
      "0.96\n",
      "0.99\n",
      "1.03\n",
      "1.06\n",
      "1.09\n",
      "1.12\n",
      "1.15\n",
      "1.19\n",
      "1.22\n",
      "1.25\n"
     ]
    },
    {
     "ename": "KeyboardInterrupt",
     "evalue": "",
     "output_type": "error",
     "traceback": [
      "\u001b[0;31m---------------------------------------------------------------------------\u001b[0m",
      "\u001b[0;31mKeyboardInterrupt\u001b[0m                         Traceback (most recent call last)",
      "\u001b[0;32m<ipython-input-9-17784927933d>\u001b[0m in \u001b[0;36m<module>\u001b[0;34m\u001b[0m\n\u001b[1;32m      8\u001b[0m     \u001b[0mqpt_exp\u001b[0m \u001b[0;34m=\u001b[0m \u001b[0mqpt_experiments\u001b[0m\u001b[0;34m[\u001b[0m\u001b[0mstr\u001b[0m\u001b[0;34m(\u001b[0m\u001b[0mphi\u001b[0m\u001b[0;34m)\u001b[0m\u001b[0;34m]\u001b[0m\u001b[0;34m[\u001b[0m\u001b[0;34m'transpiled_circuits'\u001b[0m\u001b[0;34m]\u001b[0m\u001b[0;34m\u001b[0m\u001b[0;34m\u001b[0m\u001b[0m\n\u001b[1;32m      9\u001b[0m     \u001b[0mjob\u001b[0m \u001b[0;34m=\u001b[0m \u001b[0mexecute\u001b[0m\u001b[0;34m(\u001b[0m\u001b[0mqpt_exp\u001b[0m\u001b[0;34m,\u001b[0m \u001b[0mbackend\u001b[0m\u001b[0;34m=\u001b[0m\u001b[0mbackend\u001b[0m\u001b[0;34m,\u001b[0m \u001b[0mshots\u001b[0m\u001b[0;34m=\u001b[0m\u001b[0;36m100\u001b[0m\u001b[0;34m)\u001b[0m\u001b[0;31m#,mode='dedicated')\u001b[0m\u001b[0;34m\u001b[0m\u001b[0;34m\u001b[0m\u001b[0m\n\u001b[0;32m---> 10\u001b[0;31m     \u001b[0mresult\u001b[0m \u001b[0;34m=\u001b[0m \u001b[0mjob\u001b[0m\u001b[0;34m.\u001b[0m\u001b[0mresult\u001b[0m\u001b[0;34m(\u001b[0m\u001b[0;34m)\u001b[0m\u001b[0;34m\u001b[0m\u001b[0;34m\u001b[0m\u001b[0m\n\u001b[0m\u001b[1;32m     11\u001b[0m \u001b[0;34m\u001b[0m\u001b[0m\n\u001b[1;32m     12\u001b[0m     \u001b[0mresults\u001b[0m\u001b[0;34m[\u001b[0m\u001b[0;34mf'{phi}'\u001b[0m\u001b[0;34m]\u001b[0m \u001b[0;34m=\u001b[0m \u001b[0mresult\u001b[0m\u001b[0;34m\u001b[0m\u001b[0;34m\u001b[0m\u001b[0m\n",
      "\u001b[0;32m~/.local/lib/python3.9/site-packages/qiskit/providers/ibmq/job/ibmqjob.py\u001b[0m in \u001b[0;36mresult\u001b[0;34m(self, timeout, wait, partial, refresh)\u001b[0m\n\u001b[1;32m    274\u001b[0m         \"\"\"\n\u001b[1;32m    275\u001b[0m         \u001b[0;31m# pylint: disable=arguments-differ\u001b[0m\u001b[0;34m\u001b[0m\u001b[0;34m\u001b[0m\u001b[0;34m\u001b[0m\u001b[0m\n\u001b[0;32m--> 276\u001b[0;31m         if not self._wait_for_completion(timeout=timeout, wait=wait,\n\u001b[0m\u001b[1;32m    277\u001b[0m                                          required_status=(JobStatus.DONE,)):\n\u001b[1;32m    278\u001b[0m             \u001b[0;32mif\u001b[0m \u001b[0mself\u001b[0m\u001b[0;34m.\u001b[0m\u001b[0m_status\u001b[0m \u001b[0;32mis\u001b[0m \u001b[0mJobStatus\u001b[0m\u001b[0;34m.\u001b[0m\u001b[0mCANCELLED\u001b[0m\u001b[0;34m:\u001b[0m\u001b[0;34m\u001b[0m\u001b[0;34m\u001b[0m\u001b[0m\n",
      "\u001b[0;32m~/.local/lib/python3.9/site-packages/qiskit/providers/ibmq/job/ibmqjob.py\u001b[0m in \u001b[0;36m_wait_for_completion\u001b[0;34m(self, timeout, wait, required_status, status_queue)\u001b[0m\n\u001b[1;32m    909\u001b[0m \u001b[0;34m\u001b[0m\u001b[0m\n\u001b[1;32m    910\u001b[0m         \u001b[0;32mtry\u001b[0m\u001b[0;34m:\u001b[0m\u001b[0;34m\u001b[0m\u001b[0;34m\u001b[0m\u001b[0m\n\u001b[0;32m--> 911\u001b[0;31m             status_response = self._api_client.job_final_status(\n\u001b[0m\u001b[1;32m    912\u001b[0m                 self.job_id(), timeout=timeout, wait=wait, status_queue=status_queue)\n\u001b[1;32m    913\u001b[0m         \u001b[0;32mexcept\u001b[0m \u001b[0mUserTimeoutExceededError\u001b[0m\u001b[0;34m:\u001b[0m\u001b[0;34m\u001b[0m\u001b[0;34m\u001b[0m\u001b[0m\n",
      "\u001b[0;32m~/.local/lib/python3.9/site-packages/qiskit/providers/ibmq/api/clients/account.py\u001b[0m in \u001b[0;36mjob_final_status\u001b[0;34m(self, job_id, timeout, wait, status_queue)\u001b[0m\n\u001b[1;32m    367\u001b[0m             \u001b[0mstart_time\u001b[0m \u001b[0;34m=\u001b[0m \u001b[0mtime\u001b[0m\u001b[0;34m.\u001b[0m\u001b[0mtime\u001b[0m\u001b[0;34m(\u001b[0m\u001b[0;34m)\u001b[0m\u001b[0;34m\u001b[0m\u001b[0;34m\u001b[0m\u001b[0m\n\u001b[1;32m    368\u001b[0m             \u001b[0;32mtry\u001b[0m\u001b[0;34m:\u001b[0m\u001b[0;34m\u001b[0m\u001b[0;34m\u001b[0m\u001b[0m\n\u001b[0;32m--> 369\u001b[0;31m                 status_response = self._job_final_status_websocket(\n\u001b[0m\u001b[1;32m    370\u001b[0m                     job_id=job_id, timeout=timeout, status_queue=status_queue)\n\u001b[1;32m    371\u001b[0m             \u001b[0;32mexcept\u001b[0m \u001b[0mWebsocketTimeoutError\u001b[0m \u001b[0;32mas\u001b[0m \u001b[0mex\u001b[0m\u001b[0;34m:\u001b[0m\u001b[0;34m\u001b[0m\u001b[0;34m\u001b[0m\u001b[0m\n",
      "\u001b[0;32m~/.local/lib/python3.9/site-packages/qiskit/providers/ibmq/api/clients/account.py\u001b[0m in \u001b[0;36m_job_final_status_websocket\u001b[0;34m(self, job_id, timeout, status_queue)\u001b[0m\n\u001b[1;32m    419\u001b[0m             \u001b[0;32melse\u001b[0m\u001b[0;34m:\u001b[0m\u001b[0;34m\u001b[0m\u001b[0;34m\u001b[0m\u001b[0m\n\u001b[1;32m    420\u001b[0m                 \u001b[0;32mraise\u001b[0m\u001b[0;34m\u001b[0m\u001b[0;34m\u001b[0m\u001b[0m\n\u001b[0;32m--> 421\u001b[0;31m         return loop.run_until_complete(\n\u001b[0m\u001b[1;32m    422\u001b[0m             self.client_ws.get_job_status(job_id, timeout=timeout, status_queue=status_queue))\n\u001b[1;32m    423\u001b[0m \u001b[0;34m\u001b[0m\u001b[0m\n",
      "\u001b[0;32m~/.local/lib/python3.9/site-packages/nest_asyncio.py\u001b[0m in \u001b[0;36mrun_until_complete\u001b[0;34m(self, future)\u001b[0m\n\u001b[1;32m     90\u001b[0m                 \u001b[0mf\u001b[0m\u001b[0;34m.\u001b[0m\u001b[0m_log_destroy_pending\u001b[0m \u001b[0;34m=\u001b[0m \u001b[0;32mFalse\u001b[0m\u001b[0;34m\u001b[0m\u001b[0;34m\u001b[0m\u001b[0m\n\u001b[1;32m     91\u001b[0m             \u001b[0;32mwhile\u001b[0m \u001b[0;32mnot\u001b[0m \u001b[0mf\u001b[0m\u001b[0;34m.\u001b[0m\u001b[0mdone\u001b[0m\u001b[0;34m(\u001b[0m\u001b[0;34m)\u001b[0m\u001b[0;34m:\u001b[0m\u001b[0;34m\u001b[0m\u001b[0;34m\u001b[0m\u001b[0m\n\u001b[0;32m---> 92\u001b[0;31m                 \u001b[0mself\u001b[0m\u001b[0;34m.\u001b[0m\u001b[0m_run_once\u001b[0m\u001b[0;34m(\u001b[0m\u001b[0;34m)\u001b[0m\u001b[0;34m\u001b[0m\u001b[0;34m\u001b[0m\u001b[0m\n\u001b[0m\u001b[1;32m     93\u001b[0m                 \u001b[0;32mif\u001b[0m \u001b[0mself\u001b[0m\u001b[0;34m.\u001b[0m\u001b[0m_stopping\u001b[0m\u001b[0;34m:\u001b[0m\u001b[0;34m\u001b[0m\u001b[0;34m\u001b[0m\u001b[0m\n\u001b[1;32m     94\u001b[0m                     \u001b[0;32mbreak\u001b[0m\u001b[0;34m\u001b[0m\u001b[0;34m\u001b[0m\u001b[0m\n",
      "\u001b[0;32m~/.local/lib/python3.9/site-packages/nest_asyncio.py\u001b[0m in \u001b[0;36m_run_once\u001b[0;34m(self)\u001b[0m\n\u001b[1;32m    117\u001b[0m             \u001b[0;32melse\u001b[0m \u001b[0;36m0.01\u001b[0m \u001b[0;32mif\u001b[0m \u001b[0mself\u001b[0m\u001b[0;34m.\u001b[0m\u001b[0m_is_proactorloop\u001b[0m\u001b[0;34m\u001b[0m\u001b[0;34m\u001b[0m\u001b[0m\n\u001b[1;32m    118\u001b[0m             else None)\n\u001b[0;32m--> 119\u001b[0;31m         \u001b[0mevent_list\u001b[0m \u001b[0;34m=\u001b[0m \u001b[0mself\u001b[0m\u001b[0;34m.\u001b[0m\u001b[0m_selector\u001b[0m\u001b[0;34m.\u001b[0m\u001b[0mselect\u001b[0m\u001b[0;34m(\u001b[0m\u001b[0mtimeout\u001b[0m\u001b[0;34m)\u001b[0m\u001b[0;34m\u001b[0m\u001b[0;34m\u001b[0m\u001b[0m\n\u001b[0m\u001b[1;32m    120\u001b[0m         \u001b[0mself\u001b[0m\u001b[0;34m.\u001b[0m\u001b[0m_process_events\u001b[0m\u001b[0;34m(\u001b[0m\u001b[0mevent_list\u001b[0m\u001b[0;34m)\u001b[0m\u001b[0;34m\u001b[0m\u001b[0;34m\u001b[0m\u001b[0m\n\u001b[1;32m    121\u001b[0m \u001b[0;34m\u001b[0m\u001b[0m\n",
      "\u001b[0;32m/usr/lib64/python3.9/selectors.py\u001b[0m in \u001b[0;36mselect\u001b[0;34m(self, timeout)\u001b[0m\n\u001b[1;32m    467\u001b[0m             \u001b[0mready\u001b[0m \u001b[0;34m=\u001b[0m \u001b[0;34m[\u001b[0m\u001b[0;34m]\u001b[0m\u001b[0;34m\u001b[0m\u001b[0;34m\u001b[0m\u001b[0m\n\u001b[1;32m    468\u001b[0m             \u001b[0;32mtry\u001b[0m\u001b[0;34m:\u001b[0m\u001b[0;34m\u001b[0m\u001b[0;34m\u001b[0m\u001b[0m\n\u001b[0;32m--> 469\u001b[0;31m                 \u001b[0mfd_event_list\u001b[0m \u001b[0;34m=\u001b[0m \u001b[0mself\u001b[0m\u001b[0;34m.\u001b[0m\u001b[0m_selector\u001b[0m\u001b[0;34m.\u001b[0m\u001b[0mpoll\u001b[0m\u001b[0;34m(\u001b[0m\u001b[0mtimeout\u001b[0m\u001b[0;34m,\u001b[0m \u001b[0mmax_ev\u001b[0m\u001b[0;34m)\u001b[0m\u001b[0;34m\u001b[0m\u001b[0;34m\u001b[0m\u001b[0m\n\u001b[0m\u001b[1;32m    470\u001b[0m             \u001b[0;32mexcept\u001b[0m \u001b[0mInterruptedError\u001b[0m\u001b[0;34m:\u001b[0m\u001b[0;34m\u001b[0m\u001b[0;34m\u001b[0m\u001b[0m\n\u001b[1;32m    471\u001b[0m                 \u001b[0;32mreturn\u001b[0m \u001b[0mready\u001b[0m\u001b[0;34m\u001b[0m\u001b[0;34m\u001b[0m\u001b[0m\n",
      "\u001b[0;31mKeyboardInterrupt\u001b[0m: "
     ]
    }
   ],
   "source": [
    "results = {}\n",
    "\n",
    "label ='22.June'\n",
    "for phi in phi_angles:\n",
    "    \n",
    "    print(phi)\n",
    "    \n",
    "    qpt_exp = qpt_experiments[str(phi)]['transpiled_circuits']\n",
    "    job = execute(qpt_exp, backend=backend, shots=100)#,mode='dedicated')\n",
    "    result = job.result()\n",
    "    \n",
    "    results[f'{phi}'] = result\n",
    "    \n",
    "    with open(f'results/{device_name}/{label}/1qtomo/{phi}.q4.pickle', 'wb') as handle:\n",
    "        pickle.dump(result, handle, protocol=pickle.HIGHEST_PROTOCOL)"
   ]
  },
  {
   "cell_type": "code",
   "execution_count": 10,
   "metadata": {},
   "outputs": [],
   "source": [
    "with open(f'results/{device_name}/{label}/1qtomo/full_results.q4.pickle', 'wb') as handle:\n",
    "        pickle.dump(results, handle, protocol=pickle.HIGHEST_PROTOCOL)"
   ]
  },
  {
   "cell_type": "code",
   "execution_count": 11,
   "metadata": {},
   "outputs": [
    {
     "name": "stderr",
     "output_type": "stream",
     "text": [
      "Input channel is not TP. Tr_2[Choi] - I has non-zero eigenvalues: [-3.60446096e-06  1.19442254e-06]\n",
      "Input channel is not TP. Tr_2[Choi] - I has non-zero eigenvalues: [-0.00014603  0.00017186]\n",
      "Input channel is not CP. Choi-matrix has negative eigenvalues: [-2.00251701e-05]\n",
      "Input channel is not TP. Tr_2[Choi] - I has non-zero eigenvalues: [-0.00012709  0.00017787]\n",
      "Input channel is not CP. Choi-matrix has negative eigenvalues: [-1.98330494e-05]\n",
      "Input channel is not TP. Tr_2[Choi] - I has non-zero eigenvalues: [-3.92312502e-05  4.92444003e-05]\n",
      "Input channel is not TP. Tr_2[Choi] - I has non-zero eigenvalues: [-8.15965651e-05  1.03689190e-04]\n",
      "Input channel is not CP. Choi-matrix has negative eigenvalues: [-4.17887018e-05]\n",
      "Input channel is not TP. Tr_2[Choi] - I has non-zero eigenvalues: [-2.61356855e-05  4.53719856e-05]\n",
      "Input channel is not CP. Choi-matrix has negative eigenvalues: [-6.07822815e-05]\n",
      "Input channel is not TP. Tr_2[Choi] - I has non-zero eigenvalues: [-2.05747759e-05  4.83571023e-05]\n",
      "Input channel is not CP. Choi-matrix has negative eigenvalues: [-1.32480273e-05]\n",
      "Input channel is not TP. Tr_2[Choi] - I has non-zero eigenvalues: [-6.01514795e-05  7.92975345e-05]\n",
      "Input channel is not CP. Choi-matrix has negative eigenvalues: [-1.59220618e-05]\n",
      "Input channel is not TP. Tr_2[Choi] - I has non-zero eigenvalues: [-1.76381605e-05  6.77224287e-06]\n",
      "Input channel is not TP. Tr_2[Choi] - I has non-zero eigenvalues: [-6.38437821e-05  4.80465793e-05]\n",
      "Input channel is not CP. Choi-matrix has negative eigenvalues: [-3.03092114e-05]\n",
      "Input channel is not TP. Tr_2[Choi] - I has non-zero eigenvalues: [-3.61553065e-05  1.94988243e-05]\n",
      "Input channel is not CP. Choi-matrix has negative eigenvalues: [-3.05496977e-06]\n",
      "Input channel is not TP. Tr_2[Choi] - I has non-zero eigenvalues: [-3.02951688e-06  3.39879538e-06]\n",
      "Input channel is not CP. Choi-matrix has negative eigenvalues: [-2.56772353e-05]\n",
      "Input channel is not TP. Tr_2[Choi] - I has non-zero eigenvalues: [-5.35766768e-05  4.71345691e-05]\n",
      "Input channel is not CP. Choi-matrix has negative eigenvalues: [-1.28291193e-05]\n",
      "Input channel is not TP. Tr_2[Choi] - I has non-zero eigenvalues: [-6.97227244e-06  1.06249821e-05]\n",
      "Input channel is not TP. Tr_2[Choi] - I has non-zero eigenvalues: [-4.43595169e-05  6.32884844e-05]\n",
      "Input channel is not CP. Choi-matrix has negative eigenvalues: [-3.09824676e-05]\n",
      "Input channel is not TP. Tr_2[Choi] - I has non-zero eigenvalues: [-1.88845360e-05  6.81791105e-05]\n",
      "Input channel is not TP. Tr_2[Choi] - I has non-zero eigenvalues: [-8.02349879e-05  7.71220815e-05]\n",
      "Input channel is not CP. Choi-matrix has negative eigenvalues: [-3.56958249e-07]\n",
      "Input channel is not TP. Tr_2[Choi] - I has non-zero eigenvalues: [-6.55197102e-05  8.15881384e-05]\n",
      "Input channel is not TP. Tr_2[Choi] - I has non-zero eigenvalues: [-0.00010731  0.00010302]\n",
      "Input channel is not TP. Tr_2[Choi] - I has non-zero eigenvalues: [-7.55055015e-05  4.26137860e-05]\n",
      "Input channel is not TP. Tr_2[Choi] - I has non-zero eigenvalues: [-5.99771100e-05  4.09395441e-05]\n",
      "Input channel is not CP. Choi-matrix has negative eigenvalues: [-2.77685447e-05]\n",
      "Input channel is not TP. Tr_2[Choi] - I has non-zero eigenvalues: [-7.58012414e-05  1.03806095e-04]\n",
      "Input channel is not CP. Choi-matrix has negative eigenvalues: [-4.19638717e-05]\n",
      "Input channel is not TP. Tr_2[Choi] - I has non-zero eigenvalues: [-3.02029721e-05  2.53265895e-05]\n",
      "Input channel is not CP. Choi-matrix has negative eigenvalues: [-5.83333824e-06 -6.81902806e-07]\n",
      "Input channel is not TP. Tr_2[Choi] - I has non-zero eigenvalues: [-6.17891840e-06  5.87709883e-06]\n",
      "Input channel is not CP. Choi-matrix has negative eigenvalues: [-1.15128427e-05]\n",
      "Input channel is not TP. Tr_2[Choi] - I has non-zero eigenvalues: [-6.03413425e-05  3.55398231e-05]\n",
      "Input channel is not CP. Choi-matrix has negative eigenvalues: [-7.83449084e-06]\n",
      "Input channel is not TP. Tr_2[Choi] - I has non-zero eigenvalues: [-2.33025436e-05  1.69673793e-05]\n",
      "Input channel is not TP. Tr_2[Choi] - I has non-zero eigenvalues: [-5.2174849e-05  5.3693469e-05]\n",
      "Input channel is not CP. Choi-matrix has negative eigenvalues: [-2.7747187e-06]\n",
      "Input channel is not TP. Tr_2[Choi] - I has non-zero eigenvalues: [-1.13744843e-05  5.92869272e-06]\n",
      "Input channel is not CP. Choi-matrix has negative eigenvalues: [-5.26721535e-05]\n",
      "Input channel is not TP. Tr_2[Choi] - I has non-zero eigenvalues: [-4.86102797e-05  6.14960137e-05]\n",
      "Input channel is not CP. Choi-matrix has negative eigenvalues: [-4.25465758e-05]\n",
      "Input channel is not TP. Tr_2[Choi] - I has non-zero eigenvalues: [-8.89650793e-05  4.09102885e-05]\n",
      "Input channel is not CP. Choi-matrix has negative eigenvalues: [-4.06470095e-05 -1.71327613e-05]\n",
      "Input channel is not TP. Tr_2[Choi] - I has non-zero eigenvalues: [-9.92205751e-05  1.12655382e-04]\n",
      "Input channel is not CP. Choi-matrix has negative eigenvalues: [-4.60447463e-05]\n",
      "Input channel is not TP. Tr_2[Choi] - I has non-zero eigenvalues: [-1.34774791e-05  2.70537062e-05]\n",
      "Input channel is not CP. Choi-matrix has negative eigenvalues: [-1.70202232e-05 -1.12322108e-06]\n",
      "Input channel is not TP. Tr_2[Choi] - I has non-zero eigenvalues: [-1.77914339e-05  9.23690050e-06]\n",
      "Input channel is not CP. Choi-matrix has negative eigenvalues: [-1.72337509e-05]\n",
      "Input channel is not TP. Tr_2[Choi] - I has non-zero eigenvalues: [-4.54470736e-05  4.39565620e-05]\n",
      "Input channel is not TP. Tr_2[Choi] - I has non-zero eigenvalues: [-1.02751557e-04  8.95032184e-05]\n",
      "Input channel is not TP. Tr_2[Choi] - I has non-zero eigenvalues: [-2.08829152e-05  2.72885417e-05]\n",
      "Input channel is not TP. Tr_2[Choi] - I has non-zero eigenvalues: [-4.67118349e-05  3.63507333e-05]\n",
      "Input channel is not TP. Tr_2[Choi] - I has non-zero eigenvalues: [-0.00017862  0.00010065]\n",
      "Input channel is not CP. Choi-matrix has negative eigenvalues: [-3.86010964e-05]\n",
      "Input channel is not TP. Tr_2[Choi] - I has non-zero eigenvalues: [-1.75172819e-05  1.94433009e-05]\n"
     ]
    },
    {
     "ename": "KeyError",
     "evalue": "'1.25'",
     "output_type": "error",
     "traceback": [
      "\u001b[0;31m---------------------------------------------------------------------------\u001b[0m",
      "\u001b[0;31mKeyError\u001b[0m                                  Traceback (most recent call last)",
      "\u001b[0;32m<ipython-input-11-6da5377e5add>\u001b[0m in \u001b[0;36m<module>\u001b[0;34m\u001b[0m\n\u001b[1;32m      9\u001b[0m \u001b[0;34m\u001b[0m\u001b[0m\n\u001b[1;32m     10\u001b[0m \u001b[0;34m\u001b[0m\u001b[0m\n\u001b[0;32m---> 11\u001b[0;31m     \u001b[0mres\u001b[0m \u001b[0;34m=\u001b[0m \u001b[0mresults\u001b[0m\u001b[0;34m[\u001b[0m\u001b[0mstr\u001b[0m\u001b[0;34m(\u001b[0m\u001b[0mphi\u001b[0m\u001b[0;34m)\u001b[0m\u001b[0;34m]\u001b[0m\u001b[0;34m\u001b[0m\u001b[0;34m\u001b[0m\u001b[0m\n\u001b[0m\u001b[1;32m     12\u001b[0m \u001b[0;34m\u001b[0m\u001b[0m\n\u001b[1;32m     13\u001b[0m     \u001b[0mprocess_data\u001b[0m \u001b[0;34m=\u001b[0m \u001b[0mProcessTomographyFitter\u001b[0m\u001b[0;34m(\u001b[0m\u001b[0mres\u001b[0m\u001b[0;34m,\u001b[0m \u001b[0mqpt_circuits\u001b[0m\u001b[0;34m,\u001b[0m \u001b[0mmeas_basis\u001b[0m\u001b[0;34m=\u001b[0m\u001b[0;34m'Pauli'\u001b[0m\u001b[0;34m,\u001b[0m \u001b[0mprep_basis\u001b[0m\u001b[0;34m=\u001b[0m\u001b[0;34m'Pauli'\u001b[0m\u001b[0;34m)\u001b[0m\u001b[0;34m\u001b[0m\u001b[0;34m\u001b[0m\u001b[0m\n",
      "\u001b[0;31mKeyError\u001b[0m: '1.25'"
     ]
    }
   ],
   "source": [
    "fidelities = {}\n",
    "q2 = QuantumRegister(1)\n",
    "\n",
    "for phi in phi_angles:\n",
    "    \n",
    "    phi = float(phi)\n",
    "    \n",
    "    qpt_circuits = qpt_experiments[str(phi)]['transpiled_circuits']\n",
    "    \n",
    "   \n",
    "    res = results[str(phi)]\n",
    "    \n",
    "    process_data = ProcessTomographyFitter(res, qpt_circuits, meas_basis='Pauli', prep_basis='Pauli')\n",
    "   \n",
    "    \n",
    "    choi_fit = process_data.fit( )#method='cvx', standard_weights=True,kwargs={ \"trace_preserving\":True, \"PSD\": True})\n",
    "\n",
    "    choi_fit = choi_fit.data\n",
    "    \n",
    "   \n",
    "    ideal_circ = QuantumCircuit(q2)\n",
    "    \n",
    "    ideal_circ.rz( phi,q2[0])\n",
    "    \n",
    "    \n",
    "    \n",
    "    ideal_op_data = qi.Operator(ideal_circ).data\n",
    "        \n",
    " \n",
    "    fid = qi.process_fidelity(channel=Choi(choi_fit),target=qi.Operator(ideal_op_data)) \n",
    "  \n",
    "    fidelities[str(phi)] = fid"
   ]
  },
  {
   "cell_type": "code",
   "execution_count": 12,
   "metadata": {},
   "outputs": [
    {
     "data": {
      "image/png": "[encoded data removed]",
      "text/plain": [
       "<Figure size 432x288 with 1 Axes>"
      ]
     },
     "metadata": {
      "needs_background": "light"
     },
     "output_type": "display_data"
    }
   ],
   "source": [
    "keys4 = sorted(fidelities.keys())\n",
    "plt.plot([float(k) for k in keys4],[fidelities[k] for k in keys4],c='r')\n",
    "plt.xlabel(r'$\\theta$: rad')\n",
    "plt.ylabel(r'$F(\\theta)$')\n",
    "plt.title(r'Singe qubit')\n",
    "plt.grid()"
   ]
  },
  {
   "cell_type": "code",
   "execution_count": null,
   "metadata": {},
   "outputs": [],
   "source": []
  }
 ],
 "metadata": {
  "kernelspec": {
   "display_name": "Python 3",
   "language": "python",
   "name": "python3"
  },
  "language_info": {
   "codemirror_mode": {
    "name": "ipython",
    "version": 3
   },
   "file_extension": ".py",
   "mimetype": "text/x-python",
   "name": "python",
   "nbconvert_exporter": "python",
   "pygments_lexer": "ipython3",
   "version": "3.9.5"
  }
 },
 "nbformat": 4,
 "nbformat_minor": 4
}
