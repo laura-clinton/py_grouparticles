{
 "cells": [
  {
   "cell_type": "code",
   "execution_count": 1,
   "metadata": {},
   "outputs": [],
   "source": [
    "from qiskit.compiler import transpile, schedule, assemble\n",
    "from qiskit.circuit.library import RZXGate\n",
    "import pickle\n",
    "from qiskit import execute, QuantumCircuit\n",
    "import numpy as np\n",
    "import matplotlib.pyplot as plt\n",
    "from qiskit import IBMQ\n",
    "from qiskit.transpiler.passes.scheduling.calibration_creators import RZXCalibrationBuilder"
   ]
  },
  {
   "cell_type": "code",
   "execution_count": 2,
   "metadata": {},
   "outputs": [],
   "source": [
    "from qiskit.ignis.verification.tomography import process_tomography_circuits, ProcessTomographyFitter, TomographyFitter\n",
    "from qiskit.ignis.verification import marginal_counts\n",
    "from qiskit.quantum_info.operators.channel import Choi, Kraus, PTM\n",
    "from qiskit.circuit import QuantumCircuit, QuantumRegister, Gate\n",
    "from scipy.optimize import curve_fit"
   ]
  },
  {
   "cell_type": "code",
   "execution_count": 3,
   "metadata": {},
   "outputs": [],
   "source": [
    "from qiskit.providers.aer.noise.errors.errorutils import standard_gate_unitary\n",
    "from qiskit.quantum_info.operators.measures import process_fidelity\n",
    "from qiskit.quantum_info import Choi, Kraus, Operator\n",
    "import qiskit.quantum_info as qi"
   ]
  },
  {
   "cell_type": "markdown",
   "metadata": {},
   "source": [
    "# Backend Set-up"
   ]
  },
  {
   "cell_type": "code",
   "execution_count": 4,
   "metadata": {},
   "outputs": [],
   "source": [
    "provider = IBMQ.load_account()"
   ]
  },
  {
   "cell_type": "code",
   "execution_count": 5,
   "metadata": {},
   "outputs": [],
   "source": [
    "#provider = IBMQ.save_account('bc105c39d9a7126c0d0676289f99065f525c6d739c807848153f6d1dd19907d6d433577b8c34a1959654f82f12418f09d115a1b8eb3db8dab6fabe1192da1643',overwrite=True)"
   ]
  },
  {
   "cell_type": "code",
   "execution_count": 6,
   "metadata": {},
   "outputs": [],
   "source": [
    "provider_pulse = IBMQ.get_provider(hub='ibm-q-startup', group='phasecraft-ltd', project='pulse-level-cont')"
   ]
  },
  {
   "cell_type": "code",
   "execution_count": 40,
   "metadata": {},
   "outputs": [],
   "source": [
    "#provider_pulse = IBMQ.get_provider(hub='ibm-q-startup', group='phasecraft-ltd', project='reservations')#),mode='dedicated')#,reservation_id='60b647d6325afee40d368968')"
   ]
  },
  {
   "cell_type": "code",
   "execution_count": 7,
   "metadata": {},
   "outputs": [],
   "source": [
    "# casablanca or bogota for our pulse experiments\n",
    "device_name = \"ibmq_casablanca\"\n",
    "backend = provider_pulse.get_backend('ibmq_casablanca')"
   ]
  },
  {
   "cell_type": "code",
   "execution_count": null,
   "metadata": {},
   "outputs": [],
   "source": []
  },
  {
   "cell_type": "code",
   "execution_count": 8,
   "metadata": {},
   "outputs": [],
   "source": [
    "# from backend\n",
    "config = backend.configuration()\n",
    "props = backend.properties()\n",
    "defaults = backend.defaults()\n",
    "\n",
    "assert config.open_pulse, \"Backend doesn't support Pulse\""
   ]
  },
  {
   "cell_type": "code",
   "execution_count": 9,
   "metadata": {},
   "outputs": [],
   "source": [
    "# default calibrations, basis gates and instruction map\n",
    "basis_gates = config.basis_gates\n",
    "dt = config.dt\n",
    "inst_map = defaults.instruction_schedule_map\n",
    "RZX_cals = RZXCalibrationBuilder(backend)"
   ]
  },
  {
   "cell_type": "code",
   "execution_count": 10,
   "metadata": {},
   "outputs": [
    {
     "name": "stdout",
     "output_type": "stream",
     "text": [
      "Sampling time: 0.2222222222222222 ns\n"
     ]
    }
   ],
   "source": [
    "print(f\"Sampling time: {dt*1e9} ns\")    # The configuration returns dt in seconds, so multiply by\n",
    "                                        # 1e9 to get nanoseconds\n"
   ]
  },
  {
   "cell_type": "code",
   "execution_count": 11,
   "metadata": {},
   "outputs": [
    {
     "name": "stdout",
     "output_type": "stream",
     "text": [
      "<InstructionScheduleMap(1Q instructions:\n",
      "  q0: {'sx', 'measure', 'u2', 'x', 'u3', 'rz', 'u1', 'id'}\n",
      "  q1: {'sx', 'measure', 'u2', 'x', 'u3', 'rz', 'u1', 'id'}\n",
      "  q2: {'sx', 'measure', 'u2', 'x', 'u3', 'rz', 'u1', 'id'}\n",
      "  q3: {'sx', 'measure', 'u2', 'x', 'u3', 'rz', 'u1', 'id'}\n",
      "  q4: {'sx', 'measure', 'u2', 'x', 'u3', 'rz', 'u1', 'id'}\n",
      "  q5: {'sx', 'measure', 'u2', 'x', 'u3', 'rz', 'u1', 'id'}\n",
      "  q6: {'sx', 'measure', 'u2', 'x', 'u3', 'rz', 'u1', 'id'}\n",
      "Multi qubit instructions:\n",
      "  (0, 1): {'cx'}\n",
      "  (1, 0): {'cx'}\n",
      "  (1, 2): {'cx'}\n",
      "  (1, 3): {'cx'}\n",
      "  (2, 1): {'cx'}\n",
      "  (3, 1): {'cx'}\n",
      "  (3, 5): {'cx'}\n",
      "  (4, 5): {'cx'}\n",
      "  (5, 3): {'cx'}\n",
      "  (5, 4): {'cx'}\n",
      "  (5, 6): {'cx'}\n",
      "  (6, 5): {'cx'}\n",
      "  (0, 1, 2, 3, 4, 5, 6): {'measure'}\n",
      ")>\n"
     ]
    }
   ],
   "source": [
    "print(inst_map)"
   ]
  },
  {
   "cell_type": "markdown",
   "metadata": {},
   "source": [
    "# RZ Pulse Tomography"
   ]
  },
  {
   "cell_type": "markdown",
   "metadata": {},
   "source": [
    "## Choose specific qubits and angles "
   ]
  },
  {
   "cell_type": "code",
   "execution_count": 12,
   "metadata": {
    "tags": []
   },
   "outputs": [],
   "source": [
    "label = '02.June'"
   ]
  },
  {
   "cell_type": "code",
   "execution_count": 49,
   "metadata": {
    "tags": []
   },
   "outputs": [],
   "source": [
    "##### pick qubits and angles\n",
    "# will define custom gates for just this pair of qubits and these angles\n",
    "# then we link the CR scaled RZ schedules to our custom gates\n",
    "\n",
    "qubits = (4, 5)\n",
    "\n",
    "number_of_angles = 60\n",
    "angles = np.round(\n",
    "                 #np.random.uniform(0.1, 2*np.pi, number_of_angles),\n",
    "                  np.linspace(0.1, 2*np.pi, number_of_angles),\n",
    "                  2)"
   ]
  },
  {
   "cell_type": "code",
   "execution_count": 50,
   "metadata": {},
   "outputs": [
    {
     "data": {
      "text/plain": [
       "array([0.1 , 0.2 , 0.31, 0.41, 0.52, 0.62, 0.73, 0.83, 0.94, 1.04, 1.15,\n",
       "       1.25, 1.36, 1.46, 1.57, 1.67, 1.78, 1.88, 1.99, 2.09, 2.2 , 2.3 ,\n",
       "       2.41, 2.51, 2.62, 2.72, 2.82, 2.93, 3.03, 3.14, 3.24, 3.35, 3.45,\n",
       "       3.56, 3.66, 3.77, 3.87, 3.98, 4.08, 4.19, 4.29, 4.4 , 4.5 , 4.61,\n",
       "       4.71, 4.82, 4.92, 5.03, 5.13, 5.24, 5.34, 5.44, 5.55, 5.65, 5.76,\n",
       "       5.86, 5.97, 6.07, 6.18, 6.28])"
      ]
     },
     "execution_count": 50,
     "metadata": {},
     "output_type": "execute_result"
    }
   ],
   "source": [
    "angles"
   ]
  },
  {
   "cell_type": "code",
   "execution_count": 51,
   "metadata": {
    "tags": []
   },
   "outputs": [],
   "source": [
    "rz_schedules = {str(angle): RZX_cals.get_calibration([angle] , qubits) for angle in angles}"
   ]
  },
  {
   "cell_type": "code",
   "execution_count": 52,
   "metadata": {},
   "outputs": [
    {
     "data": {
      "image/png": "[encoded data removed]",
      "text/plain": [
       "<Figure size 936x502.585 with 1 Axes>"
      ]
     },
     "execution_count": 52,
     "metadata": {},
     "output_type": "execute_result"
    }
   ],
   "source": [
    "# the shortest duration pulse schedule, gaussian square pulses are the CR pulse that get scales with the angle\n",
    "rz_schedules[str(min(angles))].draw()"
   ]
  },
  {
   "cell_type": "code",
   "execution_count": 53,
   "metadata": {},
   "outputs": [
    {
     "data": {
      "image/png": "[encoded data removed]",
      "text/plain": [
       "<Figure size 936x550.8 with 1 Axes>"
      ]
     },
     "execution_count": 53,
     "metadata": {},
     "output_type": "execute_result"
    }
   ],
   "source": [
    "# contrast with longest pulse schedule\n",
    "rz_schedules[str(max(angles))].draw()"
   ]
  },
  {
   "cell_type": "code",
   "execution_count": 54,
   "metadata": {},
   "outputs": [],
   "source": [
    "rz_schedule_durations = [rz_schedules[f'{angle}'].duration/(dt*1e9) for angle in angles]"
   ]
  },
  {
   "cell_type": "code",
   "execution_count": 55,
   "metadata": {},
   "outputs": [
    {
     "data": {
      "image/png": "[encoded data removed]",
      "text/plain": [
       "<Figure size 432x288 with 1 Axes>"
      ]
     },
     "metadata": {
      "needs_background": "light"
     },
     "output_type": "display_data"
    }
   ],
   "source": [
    "\n",
    "plt.plot(angles, rz_schedule_durations)\n",
    "plt.xlabel(r'$\\theta$: rad')\n",
    "plt.ylabel('Duration: ns')\n",
    "plt.title(r'Duration of Scaled RZ($\\theta$)')\n",
    "plt.grid()\n",
    "plt.show()"
   ]
  },
  {
   "cell_type": "markdown",
   "metadata": {},
   "source": [
    "## Adding custom gate names and linking them to the scaled pulse schedules"
   ]
  },
  {
   "cell_type": "code",
   "execution_count": 56,
   "metadata": {
    "tags": []
   },
   "outputs": [],
   "source": [
    "for angle in angles:\n",
    "    gate_name = f'rzx_{angle}'\n",
    "    basis_gates += [gate_name]\n",
    "    inst_map.add(gate_name, qubits, rz_schedules[str(angle)])"
   ]
  },
  {
   "cell_type": "code",
   "execution_count": 57,
   "metadata": {},
   "outputs": [
    {
     "name": "stdout",
     "output_type": "stream",
     "text": [
      "Updated instruction schedule map: \n",
      "\n",
      " <InstructionScheduleMap(1Q instructions:\n",
      "  q0: {'x', 'sx', 'measure', 'u3', 'id', 'rz', 'u2', 'u1'}\n",
      "  q1: {'x', 'sx', 'measure', 'u3', 'id', 'rz', 'u2', 'u1'}\n",
      "  q2: {'x', 'sx', 'measure', 'u3', 'id', 'rz', 'u2', 'u1'}\n",
      "  q3: {'x', 'sx', 'measure', 'u3', 'id', 'rz', 'u2', 'u1'}\n",
      "  q4: {'x', 'sx', 'measure', 'u3', 'id', 'rz', 'u2', 'u1'}\n",
      "  q5: {'x', 'sx', 'measure', 'u3', 'id', 'rz', 'u2', 'u1'}\n",
      "  q6: {'x', 'sx', 'measure', 'u3', 'id', 'rz', 'u2', 'u1'}\n",
      "Multi qubit instructions:\n",
      "  (0, 1): {'cx'}\n",
      "  (1, 0): {'cx'}\n",
      "  (1, 2): {'cx'}\n",
      "  (1, 3): {'cx'}\n",
      "  (2, 1): {'cx'}\n",
      "  (3, 1): {'cx'}\n",
      "  (3, 5): {'cx'}\n",
      "  (4, 5): {'cx'}\n",
      "  (5, 3): {'cx'}\n",
      "  (5, 4): {'rzx_1.46', 'rzx_0.94', 'rzx_3.98', 'rzx_2.82', 'rzx_4.29', 'rzx_4.92', 'rzx_4.08', 'rzx_0.52', 'rzx_5.03', 'rzx_0.1', 'rzx_3.03', 'rzx_3.77', 'rzx_2.72', 'rzx_5.13', 'rzx_5.55', 'rzx_2.51', 'rzx_5.86', 'rzx_1.25', 'rzx_1.88', 'rzx_3.87', 'rzx_0.41', 'rzx_3.35', 'rzx_1.78', 'rzx_0.2', 'rzx_5.44', 'rzx_3.56', 'rzx_5.65', 'rzx_0.73', 'rzx_4.19', 'rzx_4.71', 'rzx_4.5', 'rzx_0.83', 'rzx_3.24', 'rzx_2.93', 'rzx_4.61', 'rzx_1.99', 'rzx_4.4', 'rzx_2.62', 'cx', 'rzx_0.62', 'rzx_6.07', 'rzx_6.28', 'rzx_5.97', 'rzx_1.67', 'rzx_1.36', 'rzx_6.18', 'rzx_1.04', 'rzx_1.57', 'rzx_2.3', 'rzx_3.14', 'rzx_4.82', 'rzx_2.41', 'rzx_5.24', 'rzx_2.2', 'rzx_5.34', 'rzx_2.09', 'rzx_1.15', 'rzx_0.31', 'rzx_5.76', 'rzx_3.45', 'rzx_3.66'}\n",
      "  (5, 6): {'cx'}\n",
      "  (6, 5): {'cx'}\n",
      "  (0, 1, 2, 3, 4, 5, 6): {'measure'}\n",
      ")>\n"
     ]
    }
   ],
   "source": [
    "print(f'Updated instruction schedule map: \\n\\n {inst_map}')"
   ]
  },
  {
   "cell_type": "code",
   "execution_count": 58,
   "metadata": {},
   "outputs": [
    {
     "data": {
      "image/png": "[encoded data removed]",
      "text/plain": [
       "<Figure size 936x502.585 with 1 Axes>"
      ]
     },
     "execution_count": 58,
     "metadata": {},
     "output_type": "execute_result"
    }
   ],
   "source": [
    "# checking that the correct shedule is linked to the correct gate name\n",
    "inst_map.get(f'rzx_{min(angles)}', qubits).draw()"
   ]
  },
  {
   "cell_type": "code",
   "execution_count": 59,
   "metadata": {},
   "outputs": [
    {
     "data": {
      "image/png": "[encoded data removed]",
      "text/plain": [
       "<Figure size 936x550.8 with 1 Axes>"
      ]
     },
     "execution_count": 59,
     "metadata": {},
     "output_type": "execute_result"
    }
   ],
   "source": [
    "inst_map.get(f'rzx_{max(angles)}', qubits).draw()"
   ]
  },
  {
   "cell_type": "markdown",
   "metadata": {},
   "source": [
    "## Setting up the tomography circuits"
   ]
  },
  {
   "cell_type": "code",
   "execution_count": 60,
   "metadata": {
    "tags": []
   },
   "outputs": [],
   "source": [
    "# our custom gates that we need to make tomography circuits for\n",
    "gates = {str(angle): Gate(f'rzx_{angle}', 2, []) for angle in angles}"
   ]
  },
  {
   "cell_type": "code",
   "execution_count": null,
   "metadata": {
    "tags": []
   },
   "outputs": [],
   "source": [
    "qpt_experiments = {}\n",
    "\n",
    "for angle in angles:\n",
    "    \n",
    "    qregs = QuantumRegister(config.n_qubits)\n",
    "    \n",
    "    gate = gates[str(angle)]\n",
    "    circuit = QuantumCircuit(qregs)\n",
    "    circuit.compose(gate, [qregs[qubits[0]], qregs[qubits[1]]], inplace=True) \n",
    "    \n",
    "    qpt_circuits = process_tomography_circuits(circuit, [qregs[qubits[0]], qregs[qubits[1]]]) \n",
    "    qpt_circuits_transpiled = transpile(qpt_circuits, backend, basis_gates) # withou\n",
    "    qpt_schedules = schedule(qpt_circuits_transpiled, backend, inst_map)\n",
    "    \n",
    "    qpt_experiments[str(angle)] = {'pre_transpiled_circuits': qpt_circuits,\n",
    "                                   'transpiled_circuits': qpt_circuits_transpiled,\n",
    "                                   'qpt_schedules': qpt_schedules}"
   ]
  },
  {
   "cell_type": "code",
   "execution_count": null,
   "metadata": {},
   "outputs": [],
   "source": [
    "#doesn't know how to do hadamard on this device without transpiling etc\n",
    "qpt_experiments[f'{min(angles)}']['pre_transpiled_circuits'][40].draw()"
   ]
  },
  {
   "cell_type": "code",
   "execution_count": null,
   "metadata": {},
   "outputs": [],
   "source": [
    "qpt_experiments[f'{min(angles)}']['qpt_schedules'][40].draw()"
   ]
  },
  {
   "cell_type": "code",
   "execution_count": null,
   "metadata": {},
   "outputs": [],
   "source": [
    "qpt_schedule_durations = [qpt_experiments[f'{angle}']['qpt_schedules'][0].duration/(dt*1e9) for angle in angles]"
   ]
  },
  {
   "cell_type": "code",
   "execution_count": null,
   "metadata": {},
   "outputs": [],
   "source": [
    "#measurement pulse really dominates!!!! \n",
    "plt.plot(angles, qpt_schedule_durations, label='with measurement')\n",
    "plt.plot(angles, rz_schedule_durations, label='no measurement')\n",
    "plt.xlabel(r'$\\theta$: rad')\n",
    "plt.ylabel('Duration: ns')\n",
    "plt.title(r'RZ($\\theta$) via scaled pulses')\n",
    "plt.grid()\n",
    "plt.legend()\n",
    "plt.savefig('plots/measurement_cost.png', transparent=False)\n",
    "plt.show()"
   ]
  },
  {
   "cell_type": "markdown",
   "metadata": {},
   "source": [
    "### Actually submitting jobs"
   ]
  },
  {
   "cell_type": "code",
   "execution_count": null,
   "metadata": {},
   "outputs": [],
   "source": [
    "angles"
   ]
  },
  {
   "cell_type": "code",
   "execution_count": null,
   "metadata": {},
   "outputs": [],
   "source": [
    "results = {}\n",
    "for angle in angles:\n",
    "    qpt_sched = qpt_experiments[str(angle)]['qpt_schedules']\n",
    "    job = execute(qpt_sched, backend=backend, shots=500)#,mode='dedicated')\n",
    "    result = job.result()\n",
    "    results[f'{angle}'] = result"
   ]
  },
  {
   "cell_type": "markdown",
   "metadata": {},
   "source": [
    "# Unscaled Pulse Schedules"
   ]
  },
  {
   "cell_type": "code",
   "execution_count": null,
   "metadata": {},
   "outputs": [],
   "source": [
    "qpt_experiments_cx = {}\n",
    "\n",
    "for angle in angles:\n",
    "    \n",
    "    qregs = QuantumRegister(config.n_qubits)\n",
    "    \n",
    "    gate = RZXGate(angle)\n",
    "    circuit = QuantumCircuit(qregs)\n",
    "    circuit.compose(gate, [qregs[qubits[0]], qregs[qubits[1]]], inplace=True) \n",
    "    \n",
    "    qpt_circuits_cx  = process_tomography_circuits(circuit, [qregs[qubits[0]], qregs[qubits[1]]]) \n",
    "    qpt_circuits_transpiled_cx = transpile(qpt_circuits_cx, backend, basis_gates) # withou\n",
    "    qpt_schedules_cx = schedule(qpt_circuits_transpiled_cx, backend, inst_map)\n",
    "    \n",
    "    qpt_experiments_cx[str(angle)] = {'pre_transpiled_circuits': qpt_circuits_cx,\n",
    "                                   'transpiled_circuits': qpt_circuits_transpiled_cx,\n",
    "                                   'qpt_schedules': qpt_schedules_cx}"
   ]
  },
  {
   "cell_type": "code",
   "execution_count": null,
   "metadata": {},
   "outputs": [],
   "source": [
    "#doesn't know how to do hadamard on this device without transpiling etc\n",
    "qpt_experiments_cx[f'{min(angles)}']['pre_transpiled_circuits'][0].draw()"
   ]
  },
  {
   "cell_type": "code",
   "execution_count": null,
   "metadata": {},
   "outputs": [],
   "source": [
    "#double cnot method: default alternative\n",
    "qpt_experiments_cx[f'{min(angles)}']['qpt_schedules'][40].draw()"
   ]
  },
  {
   "cell_type": "code",
   "execution_count": null,
   "metadata": {},
   "outputs": [],
   "source": [
    "qpt_schedule_durations_cx = [qpt_experiments_cx[f'{angle}']['qpt_schedules'][0].duration/(dt*1e9) for angle in angles]"
   ]
  },
  {
   "cell_type": "code",
   "execution_count": null,
   "metadata": {},
   "outputs": [],
   "source": [
    "# So there's a crossover point\n",
    "plt.plot(angles, qpt_schedule_durations)\n",
    "plt.plot(angles, qpt_schedule_durations_cx)\n",
    "plt.xlabel(r'$\\theta$: rad')\n",
    "plt.ylabel('Duration: ns')\n",
    "plt.title(r'Duration of RZ($\\theta$)')\n",
    "plt.grid()\n",
    "plt.savefig('plots/duration_crossover.png', transparent=False)\n",
    "plt.show()"
   ]
  },
  {
   "cell_type": "markdown",
   "metadata": {},
   "source": [
    "### Actually submitting jobs"
   ]
  },
  {
   "cell_type": "code",
   "execution_count": null,
   "metadata": {},
   "outputs": [],
   "source": [
    "results_cx = {}\n",
    "\n",
    "for angle in angles:\n",
    "    qpt_sched_cx = qpt_experiments_cx[str(angle)]['qpt_schedules']\n",
    "    job = execute(qpt_sched_cx, backend=backend, shots=300)\n",
    "    result = job.result()\n",
    "    results_cx[f'{angle}'] = result\n",
    "  \n",
    "    "
   ]
  },
  {
   "cell_type": "code",
   "execution_count": null,
   "metadata": {},
   "outputs": [],
   "source": [
    "#with open(f'results/{device_name}/{label}/2q_tomography/unscaledCR.q4q5.pickle', 'wb') as handle:\n",
    " #   pickle.dump(results_cx, handle, protocol=pickle.HIGHEST_PROTOCOL)\n"
   ]
  },
  {
   "cell_type": "markdown",
   "metadata": {},
   "source": [
    "# Getting Fidelities"
   ]
  },
  {
   "cell_type": "code",
   "execution_count": null,
   "metadata": {},
   "outputs": [],
   "source": [
    "# solve for a and b\n",
    "def best_fit(X, Y):\n",
    "\n",
    "    xbar = sum(X)/len(X)\n",
    "    ybar = sum(Y)/len(Y)\n",
    "    n = len(X) # or len(Y)\n",
    "\n",
    "    numer = sum([xi*yi for xi,yi in zip(X, Y)]) - n * xbar * ybar\n",
    "    denum = sum([xi**2 for xi in X]) - n * xbar**2\n",
    "\n",
    "    b = numer / denum\n",
    "    a = ybar - b * xbar\n",
    "\n",
    "    print('best fit line:\\ny = {:.4f} + {:.4f}x'.format(a, b))\n",
    "\n",
    "    return a, b\n",
    "\n"
   ]
  },
  {
   "cell_type": "code",
   "execution_count": null,
   "metadata": {},
   "outputs": [],
   "source": [
    "label = '25.May'"
   ]
  },
  {
   "cell_type": "code",
   "execution_count": null,
   "metadata": {},
   "outputs": [],
   "source": [
    "label = '25.May'\n",
    "with open(f'results/{device_name}/{label}/2q_tomography/scaledCR.q4q5.pickle', 'rb') as handle:\n",
    "    results = pickle.load(handle)\n",
    "    \n",
    "#label = '24.May'\n",
    "#with open(f'results/{device_name}/{label}/2q_tomography/unscaledCR.q4q5.pickle', 'rb') as handle:\n",
    " #   results_cx = pickle.load(handle)"
   ]
  },
  {
   "cell_type": "code",
   "execution_count": null,
   "metadata": {},
   "outputs": [],
   "source": [
    "fidelities = {}\n",
    "#fidelities_cx = {}\n",
    "#ratios = {}\n",
    "\n",
    "q2 = QuantumRegister(2)\n",
    "d= 2*np.pi/1.2\n",
    "\n",
    "for angle in angles:\n",
    "    \n",
    "    qpt_circuits = qpt_experiments[str(angle)]['transpiled_circuits']\n",
    "   # qpt_circuits_cx = qpt_experiments_cx[str(angle)]['transpiled_circuits']\n",
    "    \n",
    "    res = results[str(angle)]\n",
    "   # res_cx = results_cx[str(angle)]\n",
    "    \n",
    "    process_data = ProcessTomographyFitter(res, qpt_circuits, meas_basis='Pauli', prep_basis='Pauli')\n",
    "    #process_data_cx = ProcessTomographyFitter(res_cx, qpt_circuits_cx, meas_basis='Pauli', prep_basis='Pauli')\n",
    "    \n",
    "    choi_fit = process_data.fit( )#method='cvx', standard_weights=True,kwargs={ \"trace_preserving\":True, \"PSD\": True})\n",
    "    #choi_fit_cx = process_data_cx.fit( )#method='cvx', standard_weights=True,kwargs={ \"trace_preserving\":True, \"PSD\": True})\n",
    "        \n",
    "    choi_fit = choi_fit.data\n",
    "    #choi_fit_cx = choi_fit_cx.data\n",
    "   \n",
    "    ideal_circ = QuantumCircuit(q2)\n",
    "    ideal_circ.rzx(angle*(1+d),q2[0],q2[1])\n",
    "    ideal_op_data = qi.Operator(ideal_circ).data\n",
    "    \n",
    "\n",
    "        \n",
    "  #  fid_cx = qi.process_fidelity(channel=Choi(choi_fit_cx),target=Operator(ideal_op_data))\n",
    "    fid = qi.process_fidelity(channel=Choi(choi_fit),target=qi.Operator(ideal_op_data)) \n",
    "  \n",
    "    fidelities[str(angle)] = fid\n",
    "   # fidelities_cx[str(angle)] = fid_cx\n",
    "   # ratios[str(angle)] = fid/fid_cx"
   ]
  },
  {
   "cell_type": "code",
   "execution_count": null,
   "metadata": {},
   "outputs": [],
   "source": [
    "plt.plot(angles, list(fidelities.values()),c='r')\n",
    "\n",
    "plt.xlabel(r'$\\theta$: rad')\n",
    "plt.ylabel(r'$F(\\theta)$')\n",
    "plt.title(r'RZ($\\theta$) via Scaled Pulses')\n",
    "plt.savefig(f'plots/{label}.scaled_fid.png')\n",
    "plt.grid()\n"
   ]
  },
  {
   "cell_type": "code",
   "execution_count": null,
   "metadata": {},
   "outputs": [],
   "source": [
    "def func_cos(t, f, a, phi, offset):\n",
    "    \n",
    "    return a*np.cos(2*np.pi*f*t - phi) + offset\n",
    "\n",
    "def fit_func_cos(ts, values, p0):\n",
    "    \n",
    "    return curve_fit(func_cos, ts, values, p0=p0)\n",
    "\n",
    "\n"
   ]
  },
  {
   "cell_type": "code",
   "execution_count": null,
   "metadata": {},
   "outputs": [],
   "source": [
    "data_fit,_ = fit_func_cos(angles[0:15],list(fidelities.values())[0:15], p0=[0.81413938, 0.02526407, 1.08726345, 0.92397951])\n"
   ]
  },
  {
   "cell_type": "code",
   "execution_count": null,
   "metadata": {},
   "outputs": [],
   "source": [
    "1/data_fit[0]"
   ]
  },
  {
   "cell_type": "code",
   "execution_count": null,
   "metadata": {},
   "outputs": [],
   "source": [
    "plt.plot(angles[0:15], list(fidelities.values())[0:15],c='r')\n",
    "plt.plot(angles[0:15], [func_cos(t, *data_fit) for t in angles][0:15])#, s=10\n",
    "plt.xlabel(r'$\\theta$: rad')\n",
    "plt.ylabel(r'$F(\\theta)$')\n",
    "plt.title(r'RZ($\\theta$) via Scaled Pulses')\n",
    "plt.grid()\n"
   ]
  },
  {
   "cell_type": "code",
   "execution_count": null,
   "metadata": {},
   "outputs": [],
   "source": [
    "a_cx, b_cx = best_fit(angles, fidelities_cx.values())\n",
    "yfit_cx = [a_cx + b_cx * xi for xi in angles]\n",
    "plt.plot(angles, yfit_cx, color='b')\n",
    "plt.scatter(angles, fidelities_cx.values(), color='b')\n",
    "\n",
    "plt.xlabel(r'$\\theta$: rad')\n",
    "plt.ylabel(r'$F(\\theta)$')\n",
    "plt.title(r'RZ($\\theta$) via CNOTs')\n",
    "plt.grid()\n",
    "plt.savefig('plots/cx_fid.png', transparent=False)\n"
   ]
  },
  {
   "cell_type": "code",
   "execution_count": null,
   "metadata": {
    "jupyter": {
     "source_hidden": true
    }
   },
   "outputs": [],
   "source": [
    "a, b = best_fit(angles, fidelities.values())\n",
    "yfit = [a + b * xi for xi in angles]\n",
    "plt.plot(angles, yfit, color='r', label='pulses')\n",
    "plt.scatter(angles, fidelities.values(), color='r')\n",
    "\n",
    "\n",
    "a_cx, b_cx = best_fit(angles, fidelities_cx.values())\n",
    "yfit_cx = [a_cx + b_cx * xi for xi in angles]\n",
    "plt.plot(angles, yfit_cx, color='b', label='CNOTs')\n",
    "plt.scatter(angles, fidelities_cx.values(), color='b')\n",
    "\n",
    "plt.xlabel(r'$\\theta$: rad')\n",
    "plt.ylabel(r'$F(\\theta)$')\n",
    "plt.title(r'RZ($\\theta$)')\n",
    "plt.grid()\n",
    "plt.legend(loc=1)\n",
    "\n",
    "plt.savefig('plots/scaled_and_cx.png', transparent=False)\n"
   ]
  },
  {
   "cell_type": "code",
   "execution_count": null,
   "metadata": {
    "jupyter": {
     "source_hidden": true
    }
   },
   "outputs": [],
   "source": [
    "a_r, b_r = best_fit(angles, ratios.values())\n",
    "yfit_r = [a_r + b_r * xi for xi in angles]\n",
    "plt.plot(angles, yfit_r, color='g')\n",
    "plt.scatter(angles, ratios.values(), color='g')\n",
    "\n",
    "plt.xlabel(r'$\\theta$: rad')\n",
    "plt.ylabel(r'$F(\\theta)$')\n",
    "plt.title(r'RZ($\\theta$) Fidelity Ratio')\n",
    "plt.grid()\n",
    "plt.savefig('plots/ratio_fid.png', transparent=False)\n"
   ]
  },
  {
   "cell_type": "markdown",
   "metadata": {},
   "source": [
    "## Frequencies in Signal?"
   ]
  },
  {
   "cell_type": "code",
   "execution_count": null,
   "metadata": {},
   "outputs": [],
   "source": [
    "sp = np.fft.fft(list(fidelities.values()))\n",
    "freq = list(np.fft.fftfreq(angles.shape[-1]))\n",
    "plt.plot(freq[1:], list(sp.real)[1:])\n",
    "plt.plot(freq[1:],  list(sp.imag)[1:])\n",
    "plt.grid()\n",
    "plt.xlabel(r'Frequency')\n",
    "plt.ylabel(r'Amplitude')\n",
    "plt.title(r'RZ($\\theta$) via pulse')\n",
    "plt.savefig('plots/DFTofScaled.png', transparent=False)\n",
    "\n",
    "plt.show()"
   ]
  },
  {
   "cell_type": "code",
   "execution_count": null,
   "metadata": {},
   "outputs": [],
   "source": []
  },
  {
   "cell_type": "code",
   "execution_count": null,
   "metadata": {},
   "outputs": [],
   "source": [
    "#checking signal is hermitian\n",
    "np.conj(np.array(list(fidelities_cx.values())).T) - np.array(list(fidelities_cx.values()))"
   ]
  },
  {
   "cell_type": "code",
   "execution_count": null,
   "metadata": {},
   "outputs": [],
   "source": [
    "signal = np.array(list(fidelities.values()))\n",
    "n = signal.size\n",
    "sample_rate = 1#1/dt\n",
    "hdft=np.fft.hfft(signal)\n",
    "plt.plot(hdft[1:])\n",
    "plt.grid()\n",
    "plt.xlabel(r'Frequency')\n",
    "plt.ylabel(r'Amplitude')\n",
    "plt.title(r'RZ($\\theta$) via pulse')\n",
    "plt.savefig('plots/DFTofScaled.png', transparent=False)\n",
    "\n",
    "plt.show()"
   ]
  },
  {
   "cell_type": "code",
   "execution_count": null,
   "metadata": {},
   "outputs": [],
   "source": [
    "hdft[8]"
   ]
  },
  {
   "cell_type": "code",
   "execution_count": null,
   "metadata": {},
   "outputs": [],
   "source": [
    "2*np.pi*8/60"
   ]
  },
  {
   "cell_type": "code",
   "execution_count": null,
   "metadata": {},
   "outputs": [],
   "source": [
    "signal = np.array(list(fidelities.values()))\n",
    "n = signal.size\n",
    "sample_rate = 1#1/dt\n",
    "spr = list(np.fft.rfft(signal).real)\n",
    "spi = list(np.fft.rfft(signal).imag)\n",
    "freq = list(np.fft.rfftfreq(n, d=1./sample_rate))\n",
    "plt.plot(freq, [0]+spr[1:], freq, [0]+spi[1:])\n",
    "plt.grid()\n",
    "plt.xlabel(r'Frequency')\n",
    "plt.ylabel(r'Amplitude')\n",
    "plt.title(r'RZ($\\theta$) via pulse')\n",
    "plt.savefig('plots/DFTofScaled.png', transparent=False)\n",
    "\n",
    "plt.show()"
   ]
  },
  {
   "cell_type": "code",
   "execution_count": null,
   "metadata": {},
   "outputs": [],
   "source": [
    "print(spr[1],\n",
    "freq[1])"
   ]
  },
  {
   "cell_type": "code",
   "execution_count": null,
   "metadata": {
    "jupyter": {
     "source_hidden": true
    }
   },
   "outputs": [],
   "source": [
    "sp = np.fft.hfft(list(fidelities_cx.values()))\n",
    "#freq = list(np.fft.fftfreq(angles.shape[-1]))\n",
    "#plt.plot(freq[10:]+freq[1:10], list(sp.real[10:])+list(sp.real[1:10]))\n",
    "#plt.plot(freq[10:]+freq[1:10],  list(sp.imag[10:])+list(sp.imag[1:10]))\n",
    "plt.plot([0]+list(sp[1:]))\n",
    "plt.grid()\n",
    "plt.xlabel(r'Frequency')\n",
    "plt.ylabel(r'Amplitude')\n",
    "plt.title(r'RZ($\\theta$) via CNOTs')\n",
    "plt.savefig('plots/DFTofUnscaled.png', transparent=False)\n",
    "\n",
    "plt.show()"
   ]
  },
  {
   "cell_type": "code",
   "execution_count": null,
   "metadata": {},
   "outputs": [],
   "source": [
    "noiseless_fids = {}\n",
    "\n",
    "\n",
    "\n",
    "def func(angle, p, d):\n",
    "    \n",
    "    q2 = QuantumRegister(2)\n",
    "\n",
    "    ideal_circ = QuantumCircuit(q2)\n",
    "    ideal_circ.rzx(angle,q2[0],q2[1])\n",
    "    ideal_op_data=qi.Operator(ideal_circ).data\n",
    "    \n",
    "   \n",
    "    er_circ = QuantumCircuit(q2)\n",
    "    er_circ.rzx(angle*(1+d),q2[0],q2[1])\n",
    "    er_op_data = qi.Operator(er_circ).data\n",
    "    \n",
    "    actual_kraus=qi.Kraus([np.sqrt((1-p))*ideal_op_data, np.sqrt(p)*er_op_data])\n",
    "  #  print(actual_kraus)\n",
    "      \n",
    "    fid = qi.process_fidelity(channel=actual_kraus, target=qi.Operator(ideal_op_data))\n",
    "    \n",
    "    return fid"
   ]
  },
  {
   "cell_type": "code",
   "execution_count": null,
   "metadata": {},
   "outputs": [],
   "source": [
    "d"
   ]
  },
  {
   "cell_type": "code",
   "execution_count": null,
   "metadata": {},
   "outputs": [],
   "source": [
    "p = 1\n",
    "d = 2409413241.3922224/(2*np.pi)\n",
    "plt.plot(angles, list(fidelities.values()), color='r')#, s\n",
    "plt.plot(angles, [func(a,p,d) for a in angles], color='b')#, s"
   ]
  },
  {
   "cell_type": "code",
   "execution_count": null,
   "metadata": {},
   "outputs": [],
   "source": [
    "defaults.qubit_freq_est[4]"
   ]
  },
  {
   "cell_type": "code",
   "execution_count": null,
   "metadata": {},
   "outputs": [],
   "source": [
    "defaults.meas_freq_est[4]-defaults.qubit_freq_est[4]"
   ]
  },
  {
   "cell_type": "code",
   "execution_count": null,
   "metadata": {},
   "outputs": [],
   "source": [
    "dir(defaults)"
   ]
  },
  {
   "cell_type": "code",
   "execution_count": null,
   "metadata": {},
   "outputs": [],
   "source": [
    "config.sample_rate"
   ]
  },
  {
   "cell_type": "code",
   "execution_count": null,
   "metadata": {},
   "outputs": [],
   "source": []
  }
 ],
 "metadata": {
  "kernelspec": {
   "display_name": "Python 3",
   "language": "python",
   "name": "python3"
  },
  "language_info": {
   "codemirror_mode": {
    "name": "ipython",
    "version": 3
   },
   "file_extension": ".py",
   "mimetype": "text/x-python",
   "name": "python",
   "nbconvert_exporter": "python",
   "pygments_lexer": "ipython3",
   "version": "3.9.5"
  }
 },
 "nbformat": 4,
 "nbformat_minor": 5
}
