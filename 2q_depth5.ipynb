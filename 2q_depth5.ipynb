{
 "cells": [
  {
   "cell_type": "code",
   "execution_count": 1,
   "metadata": {},
   "outputs": [],
   "source": [
    "from qiskit import transpile, schedule, assemble, execute\n",
    "import pickle\n",
    "import numpy as np\n",
    "import matplotlib.pyplot as plt\n",
    "from qiskit import IBMQ\n",
    "from qiskit.transpiler.passes.scheduling.calibration_creators import RZXCalibrationBuilder\n",
    "from qiskit.circuit import Gate\n",
    "from qiskit.ignis.verification.tomography import process_tomography_circuits, ProcessTomographyFitter, TomographyFitter\n",
    "from qiskit.quantum_info.operators.channel import Choi, Kraus, PTM\n",
    "from qiskit.circuit import QuantumCircuit, QuantumRegister, Gate\n",
    "from qiskit import transpile, schedule, assemble\n",
    "from qiskit.quantum_info.operators.measures import process_fidelity\n",
    "from qiskit.quantum_info import Choi, Kraus, Operator\n",
    "import qiskit.quantum_info as qi"
   ]
  },
  {
   "cell_type": "code",
   "execution_count": 2,
   "metadata": {},
   "outputs": [],
   "source": [
    "provider = IBMQ.load_account()"
   ]
  },
  {
   "cell_type": "code",
   "execution_count": 3,
   "metadata": {},
   "outputs": [],
   "source": [
    "provider_pulse = IBMQ.get_provider(hub='ibm-q-startup', group='phasecraft-ltd', project='pulse-level-cont')\n",
    "#provider_pulse = IBMQ.get_provider(hub='ibm-q-startup', group='phasecraft-ltd', project='reservations')"
   ]
  },
  {
   "cell_type": "code",
   "execution_count": 4,
   "metadata": {},
   "outputs": [],
   "source": [
    "device_name = \"ibmq_casablanca\"\n",
    "backend = provider_pulse.get_backend(device_name)\n",
    "\n",
    "config = backend.configuration()\n",
    "props = backend.properties()\n",
    "defaults = backend.defaults()\n",
    "\n",
    "calibrations = defaults.instruction_schedule_map\n",
    "basis_gates = config.basis_gates\n",
    "inst_map = defaults.instruction_schedule_map\n",
    "RZX_cals = RZXCalibrationBuilder(backend)"
   ]
  },
  {
   "cell_type": "code",
   "execution_count": 5,
   "metadata": {},
   "outputs": [],
   "source": [
    "gate_name = 'scaled_rzx'\n",
    "qubits = [4, 5] #pick experiment qubits now!\n",
    "\n",
    "def get_sched_q0q1(theta):\n",
    "    qs = [qubits[0], qubits[1]]\n",
    "    return RZX_cals.get_calibration([theta], qs)\n",
    "\n",
    "\n",
    "\n",
    "basis_gates += [gate_name]\n",
    "inst_map.add(gate_name, \n",
    "             [qubits[0], qubits[1]],\n",
    "             get_sched_q0q1, \n",
    "             arguments=['theta'])\n"
   ]
  },
  {
   "cell_type": "code",
   "execution_count": 6,
   "metadata": {},
   "outputs": [
    {
     "name": "stdout",
     "output_type": "stream",
     "text": [
      "<InstructionScheduleMap(1Q instructions:\n",
      "  q0: {'u3', 'u2', 'id', 'sx', 'measure', 'rz', 'x', 'u1'}\n",
      "  q1: {'u3', 'u2', 'id', 'sx', 'measure', 'rz', 'x', 'u1'}\n",
      "  q2: {'u3', 'u2', 'id', 'sx', 'measure', 'rz', 'x', 'u1'}\n",
      "  q3: {'u3', 'u2', 'id', 'sx', 'measure', 'rz', 'x', 'u1'}\n",
      "  q4: {'u3', 'u2', 'id', 'sx', 'measure', 'rz', 'x', 'u1'}\n",
      "  q5: {'u3', 'u2', 'id', 'sx', 'measure', 'rz', 'x', 'u1'}\n",
      "  q6: {'u3', 'u2', 'id', 'sx', 'measure', 'rz', 'x', 'u1'}\n",
      "Multi qubit instructions:\n",
      "  (0, 1): {'cx'}\n",
      "  (1, 0): {'cx'}\n",
      "  (1, 2): {'cx'}\n",
      "  (1, 3): {'cx'}\n",
      "  (2, 1): {'cx'}\n",
      "  (3, 1): {'cx'}\n",
      "  (3, 5): {'cx'}\n",
      "  (4, 5): {'cx', 'scaled_rzx'}\n",
      "  (5, 3): {'cx'}\n",
      "  (5, 4): {'cx'}\n",
      "  (5, 6): {'cx'}\n",
      "  (6, 5): {'cx'}\n",
      "  (0, 1, 2, 3, 4, 5, 6): {'measure'}\n",
      ")>\n"
     ]
    }
   ],
   "source": [
    "print(inst_map)"
   ]
  },
  {
   "cell_type": "code",
   "execution_count": 7,
   "metadata": {},
   "outputs": [],
   "source": [
    "def t1(t, phi): \n",
    "    return (1/2)*np.arctan2((1/np.tan(2*phi))*np.tan(t),\n",
    "                            (-((np.sqrt(np.cos(2*t) - np.cos(4*phi)))* (1/np.sin(2*phi)))* (1/np.cos(t))/np.sqrt(2)))\n",
    "    \n",
    "def t2(t,phi): \n",
    "    return np.arctan2( -(1/np.sin(phi))* (1/np.cos(phi))*np.sin(t),\n",
    "                      -np.sqrt(2) *np.sqrt(np.cos(2*t) - np.cos(4*phi))*(1/np.sin(2 *phi)))\n",
    "                    \n"
   ]
  },
  {
   "cell_type": "code",
   "execution_count": 8,
   "metadata": {},
   "outputs": [
    {
     "data": {
      "text/plain": [
       "[<matplotlib.lines.Line2D at 0x7f88ef52f070>]"
      ]
     },
     "execution_count": 8,
     "metadata": {},
     "output_type": "execute_result"
    },
    {
     "data": {
      "image/png": "[encoded data removed]",
      "text/plain": [
       "<Figure size 432x288 with 1 Axes>"
      ]
     },
     "metadata": {
      "needs_background": "light"
     },
     "output_type": "display_data"
    }
   ],
   "source": [
    "t_range = np.linspace(0, np.pi, 40)\n",
    "phi= np.pi/4\n",
    "plt.plot(t_range,[t2(t, phi) for t in t_range])"
   ]
  },
  {
   "cell_type": "code",
   "execution_count": 9,
   "metadata": {},
   "outputs": [],
   "source": [
    "def get_depth5(t, phi, qubits):\n",
    "    \n",
    "  \n",
    "    qregs = QuantumRegister(config.n_qubits)\n",
    "    qc = QuantumCircuit(qregs)\n",
    "    \n",
    "    g1 = Gate('scaled_rzx', 2, params = [2*t1(t, phi)] )\n",
    "    g2 = Gate('scaled_rzx', 2, params = [2*t2(t, phi)] )\n",
    "\n",
    "\n",
    "    qregs = QuantumRegister(config.n_qubits)\n",
    "    qc = QuantumCircuit(qregs)\n",
    "\n",
    "    qc.append(g1, (qregs[qubits[0]], qregs[qubits[1]]))\n",
    "    qc.rz(2*phi, (qregs[qubits[1]]))\n",
    "    qc.append(g2, (qregs[qubits[0]], qregs[qubits[1]]))\n",
    "    qc.rz(-2*phi, (qregs[qubits[1]]))\n",
    "    qc.append(g1, (qregs[qubits[0]], qregs[qubits[1]]))\n",
    "    \n",
    "    return qc\n",
    "\n"
   ]
  },
  {
   "cell_type": "code",
   "execution_count": 10,
   "metadata": {},
   "outputs": [
    {
     "data": {
      "text/html": [
       "<pre style=\"word-wrap: normal;white-space: pre;background: #fff0;line-height: 1.1;font-family: &quot;Courier New&quot;,Courier,monospace\">                                                                        »\n",
       "q1_0: ──────────────────────────────────────────────────────────────────»\n",
       "                                                                        »\n",
       "q1_1: ──────────────────────────────────────────────────────────────────»\n",
       "                                                                        »\n",
       "q1_2: ──────────────────────────────────────────────────────────────────»\n",
       "                                                                        »\n",
       "q1_3: ──────────────────────────────────────────────────────────────────»\n",
       "      ┌─────────────────────┐         ┌──────────────────────┐          »\n",
       "q1_4: ┤0                    ├─────────┤0                     ├──────────»\n",
       "      │  scaled_rzx(2.9416) │┌───────┐│  scaled_rzx(-5.5655) │┌────────┐»\n",
       "q1_5: ┤1                    ├┤ RZ(1) ├┤1                     ├┤ RZ(-1) ├»\n",
       "      └─────────────────────┘└───────┘└──────────────────────┘└────────┘»\n",
       "q1_6: ──────────────────────────────────────────────────────────────────»\n",
       "                                                                        »\n",
       "«                             \n",
       "«q1_0: ───────────────────────\n",
       "«                             \n",
       "«q1_1: ───────────────────────\n",
       "«                             \n",
       "«q1_2: ───────────────────────\n",
       "«                             \n",
       "«q1_3: ───────────────────────\n",
       "«      ┌─────────────────────┐\n",
       "«q1_4: ┤0                    ├\n",
       "«      │  scaled_rzx(2.9416) │\n",
       "«q1_5: ┤1                    ├\n",
       "«      └─────────────────────┘\n",
       "«q1_6: ───────────────────────\n",
       "«                             </pre>"
      ],
      "text/plain": [
       "                                                                        »\n",
       "q1_0: ──────────────────────────────────────────────────────────────────»\n",
       "                                                                        »\n",
       "q1_1: ──────────────────────────────────────────────────────────────────»\n",
       "                                                                        »\n",
       "q1_2: ──────────────────────────────────────────────────────────────────»\n",
       "                                                                        »\n",
       "q1_3: ──────────────────────────────────────────────────────────────────»\n",
       "      ┌─────────────────────┐         ┌──────────────────────┐          »\n",
       "q1_4: ┤0                    ├─────────┤0                     ├──────────»\n",
       "      │  scaled_rzx(2.9416) │┌───────┐│  scaled_rzx(-5.5655) │┌────────┐»\n",
       "q1_5: ┤1                    ├┤ RZ(1) ├┤1                     ├┤ RZ(-1) ├»\n",
       "      └─────────────────────┘└───────┘└──────────────────────┘└────────┘»\n",
       "q1_6: ──────────────────────────────────────────────────────────────────»\n",
       "                                                                        »\n",
       "«                             \n",
       "«q1_0: ───────────────────────\n",
       "«                             \n",
       "«q1_1: ───────────────────────\n",
       "«                             \n",
       "«q1_2: ───────────────────────\n",
       "«                             \n",
       "«q1_3: ───────────────────────\n",
       "«      ┌─────────────────────┐\n",
       "«q1_4: ┤0                    ├\n",
       "«      │  scaled_rzx(2.9416) │\n",
       "«q1_5: ┤1                    ├\n",
       "«      └─────────────────────┘\n",
       "«q1_6: ───────────────────────\n",
       "«                             "
      ]
     },
     "execution_count": 10,
     "metadata": {},
     "output_type": "execute_result"
    }
   ],
   "source": [
    "get_depth5(0.3, 0.5, [4,5]).draw()"
   ]
  },
  {
   "cell_type": "code",
   "execution_count": 23,
   "metadata": {},
   "outputs": [],
   "source": [
    "qpt_experiments = {}\n",
    "\n",
    "t = 0.15\n",
    "qubit = [4,5]\n",
    "\n",
    "phi_angles = np.linspace(0.3, np.pi/4, 20)#[ 0.15, 0.2, 0.25, 0.3, 0.35] #[0.025, 0.05 ,0.075]  #[0.125, 0.175, 0.225]#, 0.8] #[0.1, 0.15, 0.2, 0.25, 0.3, 0.35]# [0.4, 0.45, 0.5, 0.55, 0.6]\n",
    "\n",
    "for phi in phi_angles:\n",
    "    \n",
    "    qc = get_depth5(t, phi, qubit)\n",
    "    \n",
    "    qpt_circuits = process_tomography_circuits(qc, qubit)\n",
    "                                            \n",
    "    qpt_circuits_transpiled = transpile(qpt_circuits, backend, basis_gates)\n",
    "    \n",
    "    qpt_schedules = schedule(qpt_circuits_transpiled, backend, inst_map)\n",
    "    \n",
    "    qpt_experiments[str(phi)] = {'pre_transpiled_circuits': qpt_circuits,\n",
    "                                   'transpiled_circuits': qpt_circuits_transpiled,\n",
    "                                   'qpt_schedules': qpt_schedules}\n",
    "    "
   ]
  },
  {
   "cell_type": "code",
   "execution_count": 24,
   "metadata": {},
   "outputs": [
    {
     "data": {
      "text/html": [
       "<pre style=\"word-wrap: normal;white-space: pre;background: #fff0;line-height: 1.1;font-family: &quot;Courier New&quot;,Courier,monospace\">        ░                                                           »\n",
       "q11_0: ─░───────────────────────────────────────────────────────────»\n",
       "        ░                                                           »\n",
       "q11_1: ─░───────────────────────────────────────────────────────────»\n",
       "        ░                                                           »\n",
       "q11_2: ─░───────────────────────────────────────────────────────────»\n",
       "        ░                                                           »\n",
       "q11_3: ─░───────────────────────────────────────────────────────────»\n",
       "        ░ ┌─────────────────────┐           ┌──────────────────────┐»\n",
       "q11_4: ─░─┤0                    ├───────────┤0                     ├»\n",
       "        ░ │  scaled_rzx(2.9188) │┌─────────┐│  scaled_rzx(-5.7475) │»\n",
       "q11_5: ─░─┤1                    ├┤ RZ(0.6) ├┤1                     ├»\n",
       "        ░ └─────────────────────┘└─────────┘└──────────────────────┘»\n",
       "q11_6: ─░───────────────────────────────────────────────────────────»\n",
       "        ░                                                           »\n",
       " c1: 2/═════════════════════════════════════════════════════════════»\n",
       "                                                                    »\n",
       "«                                           ░            \n",
       "«q11_0: ────────────────────────────────────░────────────\n",
       "«                                           ░            \n",
       "«q11_1: ────────────────────────────────────░────────────\n",
       "«                                           ░            \n",
       "«q11_2: ────────────────────────────────────░────────────\n",
       "«                                           ░            \n",
       "«q11_3: ────────────────────────────────────░────────────\n",
       "«                   ┌─────────────────────┐ ░ ┌───┐┌─┐   \n",
       "«q11_4: ────────────┤0                    ├─░─┤ H ├┤M├───\n",
       "«       ┌──────────┐│  scaled_rzx(2.9188) │ ░ ├───┤└╥┘┌─┐\n",
       "«q11_5: ┤ RZ(-0.6) ├┤1                    ├─░─┤ H ├─╫─┤M├\n",
       "«       └──────────┘└─────────────────────┘ ░ └───┘ ║ └╥┘\n",
       "«q11_6: ────────────────────────────────────░───────╫──╫─\n",
       "«                                           ░       ║  ║ \n",
       "« c1: 2/════════════════════════════════════════════╩══╩═\n",
       "«                                                   0  1 </pre>"
      ],
      "text/plain": [
       "        ░                                                           »\n",
       "q11_0: ─░───────────────────────────────────────────────────────────»\n",
       "        ░                                                           »\n",
       "q11_1: ─░───────────────────────────────────────────────────────────»\n",
       "        ░                                                           »\n",
       "q11_2: ─░───────────────────────────────────────────────────────────»\n",
       "        ░                                                           »\n",
       "q11_3: ─░───────────────────────────────────────────────────────────»\n",
       "        ░ ┌─────────────────────┐           ┌──────────────────────┐»\n",
       "q11_4: ─░─┤0                    ├───────────┤0                     ├»\n",
       "        ░ │  scaled_rzx(2.9188) │┌─────────┐│  scaled_rzx(-5.7475) │»\n",
       "q11_5: ─░─┤1                    ├┤ RZ(0.6) ├┤1                     ├»\n",
       "        ░ └─────────────────────┘└─────────┘└──────────────────────┘»\n",
       "q11_6: ─░───────────────────────────────────────────────────────────»\n",
       "        ░                                                           »\n",
       " c1: 2/═════════════════════════════════════════════════════════════»\n",
       "                                                                    »\n",
       "«                                           ░            \n",
       "«q11_0: ────────────────────────────────────░────────────\n",
       "«                                           ░            \n",
       "«q11_1: ────────────────────────────────────░────────────\n",
       "«                                           ░            \n",
       "«q11_2: ────────────────────────────────────░────────────\n",
       "«                                           ░            \n",
       "«q11_3: ────────────────────────────────────░────────────\n",
       "«                   ┌─────────────────────┐ ░ ┌───┐┌─┐   \n",
       "«q11_4: ────────────┤0                    ├─░─┤ H ├┤M├───\n",
       "«       ┌──────────┐│  scaled_rzx(2.9188) │ ░ ├───┤└╥┘┌─┐\n",
       "«q11_5: ┤ RZ(-0.6) ├┤1                    ├─░─┤ H ├─╫─┤M├\n",
       "«       └──────────┘└─────────────────────┘ ░ └───┘ ║ └╥┘\n",
       "«q11_6: ────────────────────────────────────░───────╫──╫─\n",
       "«                                           ░       ║  ║ \n",
       "« c1: 2/════════════════════════════════════════════╩══╩═\n",
       "«                                                   0  1 "
      ]
     },
     "execution_count": 24,
     "metadata": {},
     "output_type": "execute_result"
    }
   ],
   "source": [
    "qpt_experiments[str(0.3)]['pre_transpiled_circuits'][0].draw()"
   ]
  },
  {
   "cell_type": "code",
   "execution_count": 25,
   "metadata": {},
   "outputs": [
    {
     "data": {
      "text/html": [
       "<pre style=\"word-wrap: normal;white-space: pre;background: #fff0;line-height: 1.1;font-family: &quot;Courier New&quot;,Courier,monospace\">global phase: π/2\n",
       "            ░                                                           »\n",
       "q11_0 -> 0 ─░───────────────────────────────────────────────────────────»\n",
       "            ░                                                           »\n",
       "q11_1 -> 1 ─░───────────────────────────────────────────────────────────»\n",
       "            ░                                                           »\n",
       "q11_2 -> 2 ─░───────────────────────────────────────────────────────────»\n",
       "            ░                                                           »\n",
       "q11_3 -> 3 ─░───────────────────────────────────────────────────────────»\n",
       "            ░ ┌─────────────────────┐           ┌──────────────────────┐»\n",
       "q11_4 -> 4 ─░─┤0                    ├───────────┤0                     ├»\n",
       "            ░ │  scaled_rzx(2.9188) │┌─────────┐│  scaled_rzx(-5.7475) │»\n",
       "q11_5 -> 5 ─░─┤1                    ├┤ RZ(0.6) ├┤1                     ├»\n",
       "            ░ └─────────────────────┘└─────────┘└──────────────────────┘»\n",
       "q11_6 -> 6 ─░───────────────────────────────────────────────────────────»\n",
       "            ░                                                           »\n",
       "     c1: 2/═════════════════════════════════════════════════════════════»\n",
       "                                                                        »\n",
       "«                                               ░                             »\n",
       "«q11_0 -> 0 ────────────────────────────────────░─────────────────────────────»\n",
       "«                                               ░                             »\n",
       "«q11_1 -> 1 ────────────────────────────────────░─────────────────────────────»\n",
       "«                                               ░                             »\n",
       "«q11_2 -> 2 ────────────────────────────────────░─────────────────────────────»\n",
       "«                                               ░                             »\n",
       "«q11_3 -> 3 ────────────────────────────────────░─────────────────────────────»\n",
       "«                       ┌─────────────────────┐ ░ ┌─────────┐┌────┐┌─────────┐»\n",
       "«q11_4 -> 4 ────────────┤0                    ├─░─┤ RZ(π/2) ├┤ √X ├┤ RZ(π/2) ├»\n",
       "«           ┌──────────┐│  scaled_rzx(2.9188) │ ░ ├─────────┤├────┤├─────────┤»\n",
       "«q11_5 -> 5 ┤ RZ(-0.6) ├┤1                    ├─░─┤ RZ(π/2) ├┤ √X ├┤ RZ(π/2) ├»\n",
       "«           └──────────┘└─────────────────────┘ ░ └─────────┘└────┘└─────────┘»\n",
       "«q11_6 -> 6 ────────────────────────────────────░─────────────────────────────»\n",
       "«                                               ░                             »\n",
       "«     c1: 2/══════════════════════════════════════════════════════════════════»\n",
       "«                                                                             »\n",
       "«                 \n",
       "«q11_0 -> 0 ──────\n",
       "«                 \n",
       "«q11_1 -> 1 ──────\n",
       "«                 \n",
       "«q11_2 -> 2 ──────\n",
       "«                 \n",
       "«q11_3 -> 3 ──────\n",
       "«           ┌─┐   \n",
       "«q11_4 -> 4 ┤M├───\n",
       "«           └╥┘┌─┐\n",
       "«q11_5 -> 5 ─╫─┤M├\n",
       "«            ║ └╥┘\n",
       "«q11_6 -> 6 ─╫──╫─\n",
       "«            ║  ║ \n",
       "«     c1: 2/═╩══╩═\n",
       "«            0  1 </pre>"
      ],
      "text/plain": [
       "global phase: π/2\n",
       "            ░                                                           »\n",
       "q11_0 -> 0 ─░───────────────────────────────────────────────────────────»\n",
       "            ░                                                           »\n",
       "q11_1 -> 1 ─░───────────────────────────────────────────────────────────»\n",
       "            ░                                                           »\n",
       "q11_2 -> 2 ─░───────────────────────────────────────────────────────────»\n",
       "            ░                                                           »\n",
       "q11_3 -> 3 ─░───────────────────────────────────────────────────────────»\n",
       "            ░ ┌─────────────────────┐           ┌──────────────────────┐»\n",
       "q11_4 -> 4 ─░─┤0                    ├───────────┤0                     ├»\n",
       "            ░ │  scaled_rzx(2.9188) │┌─────────┐│  scaled_rzx(-5.7475) │»\n",
       "q11_5 -> 5 ─░─┤1                    ├┤ RZ(0.6) ├┤1                     ├»\n",
       "            ░ └─────────────────────┘└─────────┘└──────────────────────┘»\n",
       "q11_6 -> 6 ─░───────────────────────────────────────────────────────────»\n",
       "            ░                                                           »\n",
       "     c1: 2/═════════════════════════════════════════════════════════════»\n",
       "                                                                        »\n",
       "«                                               ░                             »\n",
       "«q11_0 -> 0 ────────────────────────────────────░─────────────────────────────»\n",
       "«                                               ░                             »\n",
       "«q11_1 -> 1 ────────────────────────────────────░─────────────────────────────»\n",
       "«                                               ░                             »\n",
       "«q11_2 -> 2 ────────────────────────────────────░─────────────────────────────»\n",
       "«                                               ░                             »\n",
       "«q11_3 -> 3 ────────────────────────────────────░─────────────────────────────»\n",
       "«                       ┌─────────────────────┐ ░ ┌─────────┐┌────┐┌─────────┐»\n",
       "«q11_4 -> 4 ────────────┤0                    ├─░─┤ RZ(π/2) ├┤ √X ├┤ RZ(π/2) ├»\n",
       "«           ┌──────────┐│  scaled_rzx(2.9188) │ ░ ├─────────┤├────┤├─────────┤»\n",
       "«q11_5 -> 5 ┤ RZ(-0.6) ├┤1                    ├─░─┤ RZ(π/2) ├┤ √X ├┤ RZ(π/2) ├»\n",
       "«           └──────────┘└─────────────────────┘ ░ └─────────┘└────┘└─────────┘»\n",
       "«q11_6 -> 6 ────────────────────────────────────░─────────────────────────────»\n",
       "«                                               ░                             »\n",
       "«     c1: 2/══════════════════════════════════════════════════════════════════»\n",
       "«                                                                             »\n",
       "«                 \n",
       "«q11_0 -> 0 ──────\n",
       "«                 \n",
       "«q11_1 -> 1 ──────\n",
       "«                 \n",
       "«q11_2 -> 2 ──────\n",
       "«                 \n",
       "«q11_3 -> 3 ──────\n",
       "«           ┌─┐   \n",
       "«q11_4 -> 4 ┤M├───\n",
       "«           └╥┘┌─┐\n",
       "«q11_5 -> 5 ─╫─┤M├\n",
       "«            ║ └╥┘\n",
       "«q11_6 -> 6 ─╫──╫─\n",
       "«            ║  ║ \n",
       "«     c1: 2/═╩══╩═\n",
       "«            0  1 "
      ]
     },
     "execution_count": 25,
     "metadata": {},
     "output_type": "execute_result"
    }
   ],
   "source": [
    "qpt_experiments[str(0.3)]['transpiled_circuits'][0].draw()"
   ]
  },
  {
   "cell_type": "code",
   "execution_count": 26,
   "metadata": {},
   "outputs": [
    {
     "data": {
      "image/png": "[encoded data removed]",
      "text/plain": [
       "<Figure size 432x288 with 1 Axes>"
      ]
     },
     "metadata": {
      "needs_background": "light"
     },
     "output_type": "display_data"
    }
   ],
   "source": [
    "\n",
    "qpt_schedule_durations = [qpt_experiments[f'{angle}']['qpt_schedules'][0].duration for angle in phi_angles]\n",
    "\n",
    "plt.plot(phi_angles, qpt_schedule_durations)\n",
    "plt.xlabel(r'$\\theta$: rad')\n",
    "plt.ylabel('Duration: dt')\n",
    "plt.title(r'RZ($\\theta$) via scaled pulses')\n",
    "plt.grid()\n",
    "\n",
    "#plt.savefig('plots/depth4_cost.png', transparent=False)\n",
    "plt.show()"
   ]
  },
  {
   "cell_type": "code",
   "execution_count": 27,
   "metadata": {},
   "outputs": [
    {
     "name": "stdout",
     "output_type": "stream",
     "text": [
      "0.3\n"
     ]
    },
    {
     "name": "stderr",
     "output_type": "stream",
     "text": [
      "/home/laura/.local/lib/python3.9/site-packages/qiskit/compiler/assembler.py:309: RuntimeWarning: Dynamic rep rates are supported on this backend. 'rep_delay' will be used instead of 'rep_time'.\n",
      "  warnings.warn(\"Dynamic rep rates are supported on this backend. 'rep_delay' will be \"\n"
     ]
    },
    {
     "name": "stdout",
     "output_type": "stream",
     "text": [
      "0.32554727175776044\n",
      "0.3510945435155209\n",
      "0.37664181527328133\n",
      "0.4021890870310417\n",
      "0.4277363587888022\n",
      "0.4532836305465626\n",
      "0.478830902304323\n",
      "0.5043781740620835\n",
      "0.5299254458198439\n",
      "0.5554727175776044\n",
      "0.5810199893353648\n",
      "0.6065672610931252\n",
      "0.6321145328508857\n",
      "0.6576618046086461\n",
      "0.6832090763664065\n",
      "0.708756348124167\n",
      "0.7343036198819275\n",
      "0.7598508916396879\n",
      "0.7853981633974483\n"
     ]
    }
   ],
   "source": [
    "results = {}\n",
    "\n",
    "label ='18.June'\n",
    "for phi in phi_angles:\n",
    "    \n",
    "    print(phi)\n",
    "    \n",
    "    qpt_sched = qpt_experiments[str(phi)]['qpt_schedules']\n",
    "    job = execute(qpt_sched, backend=backend, shots=100)#,mode='dedicated')\n",
    "    \n",
    "    \n",
    "    \n",
    "    result = job.result()\n",
    "\n",
    "    \n",
    "    results[f'{phi}'] = result\n",
    "    \n",
    "    with open(f'results/{device_name}/{label}/2qdepth5/{phi}.q4q5.pickle', 'wb') as handle:\n",
    "        pickle.dump(result, handle, protocol=pickle.HIGHEST_PROTOCOL)"
   ]
  },
  {
   "cell_type": "code",
   "execution_count": 28,
   "metadata": {},
   "outputs": [],
   "source": [
    "with open(f'results/{device_name}/{label}/2qdepth5/full_results.q4q5.pickle', 'wb') as handle:\n",
    "        pickle.dump(results, handle, protocol=pickle.HIGHEST_PROTOCOL)"
   ]
  },
  {
   "cell_type": "code",
   "execution_count": 29,
   "metadata": {},
   "outputs": [
    {
     "name": "stderr",
     "output_type": "stream",
     "text": [
      "Input channel is not CP. Choi-matrix has negative eigenvalues: [-7.32272275e-05 -6.31973916e-05 -2.82283988e-05 -1.41266843e-05]\n",
      "Input channel is not TP. Tr_2[Choi] - I has non-zero eigenvalues: [-1.06450236e-04 -2.64365851e-05  3.15036810e-05  1.03679267e-04]\n",
      "Input channel is not CP. Choi-matrix has negative eigenvalues: [-3.94604664e-05 -3.00946953e-05 -1.67487320e-05 -8.39279057e-06\n",
      " -1.63561976e-06]\n",
      "Input channel is not TP. Tr_2[Choi] - I has non-zero eigenvalues: [-3.81559219e-05 -2.00953480e-05  2.01953121e-05  4.61697917e-05]\n",
      "Input channel is not CP. Choi-matrix has negative eigenvalues: [-3.84488409e-05 -3.20234599e-05 -1.54464218e-05 -1.09101031e-05\n",
      " -4.03297340e-06]\n",
      "Input channel is not TP. Tr_2[Choi] - I has non-zero eigenvalues: [-2.38543563e-05 -1.77911772e-05 -3.79215988e-06  3.15713431e-05]\n",
      "Input channel is not CP. Choi-matrix has negative eigenvalues: [-1.42235359e-04 -9.08910489e-05 -7.68106825e-05 -2.99644553e-05\n",
      " -1.83564061e-05]\n",
      "Input channel is not TP. Tr_2[Choi] - I has non-zero eigenvalues: [-1.04856264e-04 -2.58884376e-05  2.37484734e-05  9.98567498e-05]\n",
      "Input channel is not CP. Choi-matrix has negative eigenvalues: [-7.21385912e-05 -6.22444354e-05 -3.86359083e-05 -1.11745066e-05\n",
      " -6.21636074e-07]\n",
      "Input channel is not TP. Tr_2[Choi] - I has non-zero eigenvalues: [-1.15474725e-04 -4.70644213e-05  4.01800971e-05  1.09234689e-04]\n",
      "Input channel is not CP. Choi-matrix has negative eigenvalues: [-1.26709663e-04 -9.38353547e-05 -6.77480054e-05 -2.18386388e-05\n",
      " -1.32412922e-05 -1.27402824e-06]\n",
      "Input channel is not TP. Tr_2[Choi] - I has non-zero eigenvalues: [-7.99343311e-05 -2.47227159e-05  1.37219333e-05  8.88603293e-05]\n",
      "Input channel is not CP. Choi-matrix has negative eigenvalues: [-5.46439553e-05 -4.67447933e-05 -3.34787117e-05 -2.17052625e-05\n",
      " -1.02313213e-05 -2.38523310e-06]\n",
      "Input channel is not TP. Tr_2[Choi] - I has non-zero eigenvalues: [-3.96572701e-05 -2.33188162e-05  1.64507510e-05  4.30720963e-05]\n",
      "Input channel is not CP. Choi-matrix has negative eigenvalues: [-5.74028375e-05 -4.63650463e-05 -3.22791208e-05 -2.42414417e-05\n",
      " -1.54824440e-05]\n",
      "Input channel is not TP. Tr_2[Choi] - I has non-zero eigenvalues: [-3.77502228e-05 -1.51816395e-05  2.17318190e-05  3.22309180e-05]\n",
      "Input channel is not CP. Choi-matrix has negative eigenvalues: [-7.52000109e-05 -5.43809442e-05 -3.42658301e-05 -2.13666717e-05\n",
      " -9.13736051e-06]\n",
      "Input channel is not TP. Tr_2[Choi] - I has non-zero eigenvalues: [-8.31352399e-05 -1.21003558e-05  6.35663381e-05  8.28864147e-05]\n",
      "Input channel is not CP. Choi-matrix has negative eigenvalues: [-1.28752131e-04 -8.75597578e-05 -5.97151354e-05 -3.39874100e-05\n",
      " -1.95438731e-05]\n",
      "Input channel is not TP. Tr_2[Choi] - I has non-zero eigenvalues: [-1.11278263e-04 -1.11467659e-05  4.14810421e-05  8.09432477e-05]\n",
      "Input channel is not CP. Choi-matrix has negative eigenvalues: [-9.39422684e-05 -4.65190638e-05 -3.19075200e-05 -1.40548481e-05\n",
      " -4.18888495e-06]\n",
      "Input channel is not TP. Tr_2[Choi] - I has non-zero eigenvalues: [-8.52854337e-05 -3.32177829e-05  4.09987656e-05  6.52103180e-05]\n",
      "Input channel is not CP. Choi-matrix has negative eigenvalues: [-1.42390063e-04 -8.31055568e-05 -4.99495222e-05 -2.99407889e-05\n",
      " -7.40959258e-06]\n",
      "Input channel is not TP. Tr_2[Choi] - I has non-zero eigenvalues: [-1.03647745e-04 -2.04089919e-05  2.29339660e-05  6.98280178e-05]\n",
      "Input channel is not CP. Choi-matrix has negative eigenvalues: [-4.90011682e-05 -3.16628040e-05 -2.68658256e-05 -1.40363967e-05\n",
      " -9.17258893e-06]\n",
      "Input channel is not TP. Tr_2[Choi] - I has non-zero eigenvalues: [-3.83804185e-05 -1.87601294e-05  2.83439295e-05  4.15217878e-05]\n",
      "Input channel is not CP. Choi-matrix has negative eigenvalues: [-8.96151954e-05 -5.80807392e-05 -5.09719756e-05 -2.94237877e-05]\n",
      "Input channel is not TP. Tr_2[Choi] - I has non-zero eigenvalues: [-1.15637882e-04 -4.32211408e-05  3.19810733e-05  6.80014386e-05]\n",
      "Input channel is not CP. Choi-matrix has negative eigenvalues: [-1.02134648e-04 -8.10708882e-05 -3.52757549e-05 -1.84945493e-05\n",
      " -1.04457931e-05]\n",
      "Input channel is not TP. Tr_2[Choi] - I has non-zero eigenvalues: [-1.31505635e-04 -2.33756984e-05  6.11933559e-05  1.17132882e-04]\n",
      "Input channel is not CP. Choi-matrix has negative eigenvalues: [-1.11279726e-04 -7.16171087e-05 -4.86582767e-05 -2.82275538e-05\n",
      " -1.26224797e-05]\n",
      "Input channel is not TP. Tr_2[Choi] - I has non-zero eigenvalues: [-1.23755987e-04 -1.93505879e-05  4.21448040e-05  9.10323333e-05]\n",
      "Input channel is not CP. Choi-matrix has negative eigenvalues: [-7.50970380e-05 -5.32938477e-05 -2.98682141e-05 -2.27978460e-05\n",
      " -6.38626111e-06]\n",
      "Input channel is not TP. Tr_2[Choi] - I has non-zero eigenvalues: [-1.65951879e-04 -4.49631966e-05  5.60649955e-05  1.23852801e-04]\n",
      "Input channel is not CP. Choi-matrix has negative eigenvalues: [-5.40156489e-05 -3.77106980e-05 -2.42122122e-05 -1.37642261e-05\n",
      " -7.71918895e-06]\n",
      "Input channel is not TP. Tr_2[Choi] - I has non-zero eigenvalues: [-6.10146418e-05 -6.17291979e-06  1.07121678e-05  7.10130586e-05]\n",
      "Input channel is not CP. Choi-matrix has negative eigenvalues: [-6.06596364e-05 -4.16709744e-05 -3.64363872e-05 -2.05276646e-05\n",
      " -7.98300723e-06 -2.10064511e-06]\n",
      "Input channel is not TP. Tr_2[Choi] - I has non-zero eigenvalues: [-6.70809335e-05 -7.73621794e-06  2.07784781e-05  5.15345267e-05]\n",
      "Input channel is not CP. Choi-matrix has negative eigenvalues: [-1.00144841e-04 -6.56984318e-05 -5.16453030e-05 -3.29254963e-05\n",
      " -4.60980649e-06]\n",
      "Input channel is not TP. Tr_2[Choi] - I has non-zero eigenvalues: [-8.16207578e-05 -5.18638922e-05  3.74940404e-05  9.80050371e-05]\n"
     ]
    }
   ],
   "source": [
    "fidelities = {}\n",
    "q2 = QuantumRegister(2)\n",
    "\n",
    "for phi in phi_angles:\n",
    "    \n",
    "    phi = float(phi)\n",
    "    \n",
    "    qpt_circuits = qpt_experiments[str(phi)]['transpiled_circuits']\n",
    "    \n",
    "   \n",
    "    res = results[str(phi)]\n",
    "    \n",
    "    process_data = ProcessTomographyFitter(res, qpt_circuits, meas_basis='Pauli', prep_basis='Pauli')\n",
    "   \n",
    "    \n",
    "    choi_fit = process_data.fit( )#method='cvx', standard_weights=True,kwargs={ \"trace_preserving\":True, \"PSD\": True})\n",
    "\n",
    "    choi_fit = choi_fit.data\n",
    "    \n",
    "   \n",
    "    ideal_circ = QuantumCircuit(q2)\n",
    "    \n",
    "    ideal_circ.rzx(2*t1(t, phi),q2[0],q2[1])\n",
    "    \n",
    "    ideal_circ.rz(2*phi,q2[1])\n",
    "    \n",
    "    ideal_circ.rzx(2*t2(t, phi),q2[0],q2[1])\n",
    "   \n",
    "    ideal_circ.rz(-2*phi,q2[1])\n",
    "\n",
    "    ideal_circ.rzx(2*t1(t,phi),q2[0],q2[1])\n",
    "  \n",
    "    \n",
    "    ideal_op_data = qi.Operator(ideal_circ).data\n",
    "        \n",
    " \n",
    "    fid = qi.process_fidelity(channel=Choi(choi_fit),target=qi.Operator(ideal_op_data)) \n",
    "  \n",
    "    fidelities[str(phi)] = fid"
   ]
  },
  {
   "cell_type": "code",
   "execution_count": 22,
   "metadata": {},
   "outputs": [
    {
     "data": {
      "text/plain": [
       "0.8811205047767223"
      ]
     },
     "execution_count": 22,
     "metadata": {},
     "output_type": "execute_result"
    }
   ],
   "source": [
    "fid"
   ]
  },
  {
   "cell_type": "code",
   "execution_count": 30,
   "metadata": {},
   "outputs": [
    {
     "data": {
      "image/png": "[encoded data removed]",
      "text/plain": [
       "<Figure size 432x288 with 1 Axes>"
      ]
     },
     "metadata": {
      "needs_background": "light"
     },
     "output_type": "display_data"
    }
   ],
   "source": [
    "keys4 = sorted(fidelities.keys())\n",
    "plt.plot([float(k) for k in keys4],[fidelities[k] for k in keys4],c='r')\n",
    "plt.xlabel(r'$\\theta$: rad')\n",
    "plt.ylabel(r'$F(\\theta)$')\n",
    "plt.title(r'Scaled vs Unscaled Pulses')\n",
    "plt.grid()"
   ]
  },
  {
   "cell_type": "code",
   "execution_count": null,
   "metadata": {},
   "outputs": [],
   "source": []
  }
 ],
 "metadata": {
  "kernelspec": {
   "display_name": "Python 3",
   "language": "python",
   "name": "python3"
  },
  "language_info": {
   "codemirror_mode": {
    "name": "ipython",
    "version": 3
   },
   "file_extension": ".py",
   "mimetype": "text/x-python",
   "name": "python",
   "nbconvert_exporter": "python",
   "pygments_lexer": "ipython3",
   "version": "3.9.5"
  }
 },
 "nbformat": 4,
 "nbformat_minor": 4
}
