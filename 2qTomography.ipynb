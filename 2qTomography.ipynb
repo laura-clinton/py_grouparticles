{
 "cells": [
  {
   "cell_type": "code",
   "execution_count": null,
   "id": "e07ca9ae-e5c9-4fa2-868d-f4268fe1ee8a",
   "metadata": {},
   "outputs": [],
   "source": []
  },
  {
   "cell_type": "code",
   "execution_count": 37,
   "id": "1c232f48-812e-41dd-b444-8d13c0dddc82",
   "metadata": {},
   "outputs": [],
   "source": [
    "from qiskit import transpile, schedule, assemble\n",
    "import pickle\n",
    "from qiskit import pulse, execute, QuantumCircuit\n",
    "from qiskit.pulse.library import GaussianSquare\n",
    "from qiskit.pulse import Schedule, Play, Acquire\n",
    "import numpy as np\n",
    "import typing\n",
    "import matplotlib.pyplot as plt\n",
    "from qiskit.pulse.channels import DriveChannel, ControlChannel, AcquireChannel, MeasureChannel, MemorySlot\n",
    "from qiskit import IBMQ\n",
    "from qiskit.pulse.instructions.play import Play\n",
    "from qiskit.transpiler.passes.scheduling.calibration_creators import RZXCalibrationBuilder"
   ]
  },
  {
   "cell_type": "code",
   "execution_count": 38,
   "id": "4b17f2ba-5e8a-44fd-bd42-97c6c1b4af6a",
   "metadata": {},
   "outputs": [],
   "source": [
    "from qiskit.ignis.verification.tomography import process_tomography_circuits, ProcessTomographyFitter, TomographyFitter\n",
    "from qiskit.ignis.verification import marginal_counts\n",
    "from qiskit.quantum_info.operators.channel import Choi, Kraus, PTM\n",
    "from qiskit.circuit import QuantumCircuit, QuantumRegister, Gate\n",
    "from qiskit import transpile, schedule, assemble\n",
    "from qiskit.providers.aer import PulseSimulator\n",
    "from qiskit.providers.aer.pulse import PulseSystemModel\n",
    "from qiskit.visualization import(\n",
    "  plot_state_city,\n",
    "  plot_bloch_multivector,\n",
    "  plot_state_paulivec,\n",
    "  plot_state_hinton,\n",
    "  plot_state_qsphere)"
   ]
  },
  {
   "cell_type": "code",
   "execution_count": 39,
   "id": "79576be9-aecc-45a3-9de4-79e15c78c383",
   "metadata": {},
   "outputs": [],
   "source": [
    "from qiskit.providers.aer.noise.errors.errorutils import standard_gate_unitary\n",
    "from qiskit.quantum_info.operators.measures import process_fidelity\n",
    "from qiskit.quantum_info import Choi, Kraus, Operator\n",
    "import qiskit.quantum_info as qi"
   ]
  },
  {
   "cell_type": "code",
   "execution_count": 4,
   "id": "46405775-9f5a-4578-8b8c-1606d294a07d",
   "metadata": {},
   "outputs": [],
   "source": [
    "provider = IBMQ.load_account()"
   ]
  },
  {
   "cell_type": "code",
   "execution_count": 5,
   "id": "d5306cf1-c2fa-4dc7-8674-4b558c14e4ba",
   "metadata": {},
   "outputs": [],
   "source": [
    "provider_pulse =IBMQ.get_provider(hub='ibm-q-startup', group='phasecraft-ltd', project='pulse-level-cont')"
   ]
  },
  {
   "cell_type": "code",
   "execution_count": 40,
   "id": "9a72657c-1227-4015-9ef6-275793925e63",
   "metadata": {},
   "outputs": [],
   "source": [
    "backend = provider_pulse.get_backend('ibmq_bogota')#,mode='dedicated')\n",
    "\n",
    "config = backend.configuration()\n",
    "props = backend.properties()\n",
    "defaults = backend.defaults()\n",
    "calibrations = defaults.instruction_schedule_map"
   ]
  },
  {
   "cell_type": "code",
   "execution_count": null,
   "id": "a65b0207-057c-4d78-8bfb-0908d19b52aa",
   "metadata": {
    "tags": []
   },
   "outputs": [],
   "source": [
    "RZX_cals = RZXCalibrationBuilder(backend)"
   ]
  },
  {
   "cell_type": "code",
   "execution_count": null,
   "id": "795f0a0e-956e-49be-b20a-ebb77f65475d",
   "metadata": {
    "tags": []
   },
   "outputs": [],
   "source": [
    "qubits = (1,2) #picking ones with longest gate times to see if stronger effect\n",
    "angles = np.round(np.linspace(0.1, np.pi, 20), 2)"
   ]
  },
  {
   "cell_type": "code",
   "execution_count": null,
   "id": "1c883c11-ef16-4d9c-8be6-05f14c1defbc",
   "metadata": {
    "tags": []
   },
   "outputs": [],
   "source": [
    "schedules = [RZX_cals.get_calibration([angle] , qubits) for angle in angles] #refresh every calibration"
   ]
  },
  {
   "cell_type": "code",
   "execution_count": null,
   "id": "969d92e8-0277-4789-bf55-c6863a3a23d0",
   "metadata": {
    "tags": []
   },
   "outputs": [],
   "source": [
    "for angle, sched in zip(angles, schedules):\n",
    "    gate_name =f'rzx_{angle}'\n",
    "    basis_gates += [gate_name]\n",
    "    inst_map.add(gate_name, qubits, sched)"
   ]
  },
  {
   "cell_type": "code",
   "execution_count": null,
   "id": "0dacc5f9-23d9-431a-8824-37f56b0c628d",
   "metadata": {
    "tags": []
   },
   "outputs": [],
   "source": [
    "gates = [Gate(f'rzx_{angle}', 2, []) for angle in angles]"
   ]
  },
  {
   "cell_type": "code",
   "execution_count": null,
   "id": "e741736f-c5d1-40ac-a5e1-a8e2aa5af1bf",
   "metadata": {
    "tags": []
   },
   "outputs": [],
   "source": [
    "label = '1.May.bogota'\n",
    "results = {}\n",
    "qregs = QuantumRegister(config.n_qubits)\n",
    "\n",
    "for angle, gate in zip(angles, gates):\n",
    "    circuit = QuantumCircuit(qregs)\n",
    "    circuit.append(gate, qargs=[qregs[qubits[0]], qregs[qubits[1]]]) \n",
    "    qpt_circuits = process_tomography_circuits(circuit, [qregs[qubits[0]], qregs[qubits[1]]]) \n",
    "    qpt_circuits = transpile(qpt_circuits, backend, basis_gates)\n",
    "    qpt_schedules = schedule(qpt_circuits, backend, inst_map)\n",
    "    job = execute(qpt_schedules, backend=backend, shots=512)\n",
    "    result = job.result()\n",
    "    results[f'{angle}'] = {'result': result, 'circuit': circuit, 'qpt_scheds':qpt_schedules, 'qpt_circuits':qpt_circuits}\n",
    "\n",
    "with open(f'results.{label}.pickle', 'wb') as handle:\n",
    "    pickle.dump(results, handle, protocol=pickle.HIGHEST_PROTOCOL)"
   ]
  },
  {
   "cell_type": "code",
   "execution_count": null,
   "id": "6832a3be-e8ab-43d4-9db2-8307a2a7fb7b",
   "metadata": {
    "tags": []
   },
   "outputs": [],
   "source": [
    "fidelities = {}\n",
    "q2 = QuantumRegister(2)\n",
    "\n",
    "for angle, gate in zip(angles, gates):\n",
    "   \n",
    "    qpt_circuits = results[str(angle)]['qpt_circuits']\n",
    "    res = results[str(angle)]['result']\n",
    "    \n",
    "    process_data = ProcessTomographyFitter(res, qpt_circuits,meas_basis='Pauli', prep_basis='Pauli')\n",
    "    choi_fit = process_data.fit( method='cvx', standard_weights=True,kwargs={ \"trace_preserving\":True, \"PSD\": True})\n",
    "    choi_fit = choi_fit.data\n",
    "   \n",
    "    ideal_circ = QuantumCircuit(q2)\n",
    "    ideal_circ.rzx(angle,q2[0],q2[1])\n",
    "    ideal=qi.Operator(ideal_circ)\n",
    "    fid = qi.average_gate_fidelity(channel=Choi(choi_fit),target=Operator(ideal.data))\n",
    "    fidelities[str(angle)] = fid"
   ]
  }
 ],
 "metadata": {
  "kernelspec": {
   "display_name": "Python 3",
   "language": "python",
   "name": "python3"
  },
  "language_info": {
   "codemirror_mode": {
    "name": "ipython",
    "version": 3
   },
   "file_extension": ".py",
   "mimetype": "text/x-python",
   "name": "python",
   "nbconvert_exporter": "python",
   "pygments_lexer": "ipython3",
   "version": "3.9.4"
  }
 },
 "nbformat": 4,
 "nbformat_minor": 5
}
