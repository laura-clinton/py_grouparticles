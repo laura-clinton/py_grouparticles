{
 "cells": [
  {
   "cell_type": "code",
   "execution_count": 1,
   "metadata": {},
   "outputs": [],
   "source": [
    "from qiskit import transpile, schedule, assemble\n",
    "import pickle\n",
    "from qiskit import pulse, execute, QuantumCircuit\n",
    "from qiskit.pulse.library import GaussianSquare\n",
    "from qiskit.pulse import Schedule, Play, Acquire\n",
    "import numpy as np\n",
    "import typing\n",
    "import matplotlib.pyplot as plt\n",
    "from qiskit.pulse.channels import DriveChannel, ControlChannel, AcquireChannel, MeasureChannel, MemorySlot\n",
    "from qiskit import IBMQ\n",
    "from qiskit.pulse.instructions.play import Play\n",
    "from qiskit.transpiler.passes.scheduling.calibration_creators import RZXCalibrationBuilder\n",
    "from qiskit.circuit import Gate, Instruction\n",
    "from qiskit.circuit import Parameter\n",
    "from qiskit.scheduler.schedule_circuit import schedule_circuit\n"
   ]
  },
  {
   "cell_type": "code",
   "execution_count": 2,
   "metadata": {},
   "outputs": [],
   "source": [
    "from qiskit.ignis.verification.tomography import process_tomography_circuits, ProcessTomographyFitter, TomographyFitter\n",
    "from qiskit.ignis.verification import marginal_counts\n",
    "from qiskit.quantum_info.operators.channel import Choi, Kraus, PTM\n",
    "from qiskit.circuit import QuantumCircuit, QuantumRegister, Gate\n",
    "from qiskit import transpile, schedule, assemble\n"
   ]
  },
  {
   "cell_type": "code",
   "execution_count": 3,
   "metadata": {},
   "outputs": [],
   "source": [
    "from qiskit.providers.aer.noise.errors.errorutils import standard_gate_unitary\n",
    "from qiskit.quantum_info.operators.measures import process_fidelity\n",
    "from qiskit.quantum_info import Choi, Kraus, Operator\n",
    "import qiskit.quantum_info as qi"
   ]
  },
  {
   "cell_type": "code",
   "execution_count": 4,
   "metadata": {},
   "outputs": [],
   "source": [
    "provider = IBMQ.load_account()"
   ]
  },
  {
   "cell_type": "code",
   "execution_count": 5,
   "metadata": {},
   "outputs": [],
   "source": [
    "provider_pulse = IBMQ.get_provider(hub='ibm-q-startup', group='phasecraft-ltd', project='pulse-level-cont')"
   ]
  },
  {
   "cell_type": "code",
   "execution_count": 9,
   "metadata": {},
   "outputs": [],
   "source": [
    "#provider_pulse = IBMQ.get_provider(hub='ibm-q-startup', group='phasecraft-ltd', project='reservations')\n"
   ]
  },
  {
   "cell_type": "code",
   "execution_count": 6,
   "metadata": {},
   "outputs": [],
   "source": [
    "device_name = \"ibmq_casablanca\"\n",
    "backend = provider_pulse.get_backend(device_name)\n",
    "\n",
    "config = backend.configuration()\n",
    "props = backend.properties()\n",
    "defaults = backend.defaults()\n",
    "\n",
    "calibrations = defaults.instruction_schedule_map\n",
    "basis_gates = config.basis_gates\n",
    "inst_map = defaults.instruction_schedule_map\n",
    "\n",
    "RZX_cals = RZXCalibrationBuilder(backend)"
   ]
  },
  {
   "cell_type": "markdown",
   "metadata": {},
   "source": [
    "# Adding Scaled gates to instruction map"
   ]
  },
  {
   "cell_type": "code",
   "execution_count": 7,
   "metadata": {},
   "outputs": [],
   "source": [
    "def t1(angle,*, z=0):\n",
    "    \n",
    "    \n",
    "\n",
    "    if (0 <= angle < np.pi / 2) or (np.pi <= angle < 3 * np.pi / 2):\n",
    "        return (1 / 2) * np.arctan2(\n",
    "            ((-1)**z)*np.sqrt(np.sin(2 * angle)) / (np.cos(angle) + np.sin(angle)),\n",
    "            1 / (np.cos(angle) + np.sin(angle)),\n",
    "        )\n",
    "    \n",
    "    if (np.pi / 2 <= angle < np.pi) or (3 * np.pi / 2 <= angle < 2 * np.pi):\n",
    "        return (1 / 2) * np.arctan2(\n",
    "            - ((-1)**z)*(np.sqrt(-np.sin(2 * angle)) / (np.cos(angle) - np.sin(angle))),\n",
    "            1 / (np.cos(angle) - np.sin(angle)),\n",
    "        )\n",
    "      \n",
    "        \n",
    "def t2(angle,*, z=0):\n",
    "    \n",
    "    if (0 <= angle < np.pi / 2) or (np.pi <= angle < 3 * np.pi / 2):\n",
    "        \n",
    "        return (1 / 2) * np.arctan2(\n",
    "                            - ((-1)**z)*np.sqrt(np.sin(2 * angle)),\n",
    "                                np.cos(angle) - np.sin(angle)\n",
    "                                    )\n",
    "    \n",
    "    if (np.pi / 2 <= angle < np.pi) or (3 * np.pi / 2 <= angle < 2 * np.pi):\n",
    "       \n",
    "        return (1 / 2) * np.arctan2(\n",
    "            - ((-1)**z)*np.sqrt(-np.sin(2 * angle)),\n",
    "            np.cos(angle) + np.sin(angle)\n",
    "        )"
   ]
  },
  {
   "cell_type": "code",
   "execution_count": 8,
   "metadata": {},
   "outputs": [],
   "source": [
    "gate_name = 'scaled_rzx'\n",
    "qubits = [4, 5, 6] #pick experiment qubits now!\n",
    "\n",
    "def get_sched_q0q1(theta):\n",
    "    qs = [qubits[0], qubits[1]]\n",
    "    return RZX_cals.get_calibration([theta], qs)\n",
    "\n",
    "def get_sched_q1q2(theta):\n",
    "    qs = [qubits[1], qubits[2]]\n",
    "    return RZX_cals.get_calibration([theta], qs)\n",
    "\n",
    "\n",
    "basis_gates += [gate_name]\n",
    "inst_map.add(gate_name, \n",
    "             [qubits[0], qubits[1]],\n",
    "             get_sched_q0q1, \n",
    "             arguments=['theta'])\n",
    "\n",
    "inst_map.add(gate_name, \n",
    "             [qubits[1], qubits[2]],\n",
    "             get_sched_q1q2, \n",
    "             arguments=['theta'])"
   ]
  },
  {
   "cell_type": "code",
   "execution_count": 9,
   "metadata": {},
   "outputs": [
    {
     "data": {
      "image/png": "[encoded data removed]",
      "text/plain": [
       "<Figure size 936x594.045 with 1 Axes>"
      ]
     },
     "execution_count": 9,
     "metadata": {},
     "output_type": "execute_result"
    }
   ],
   "source": [
    "inst_map.get('scaled_rzx', (qubits[0], qubits[1]), theta= 0.8).draw()"
   ]
  },
  {
   "cell_type": "code",
   "execution_count": 10,
   "metadata": {},
   "outputs": [
    {
     "name": "stdout",
     "output_type": "stream",
     "text": [
      "<InstructionScheduleMap(1Q instructions:\n",
      "  q0: {'sx', 'x', 'u3', 'u1', 'rz', 'u2', 'measure', 'id'}\n",
      "  q1: {'sx', 'x', 'u3', 'u1', 'rz', 'u2', 'measure', 'id'}\n",
      "  q2: {'sx', 'x', 'u3', 'u1', 'rz', 'u2', 'measure', 'id'}\n",
      "  q3: {'sx', 'x', 'u3', 'u1', 'rz', 'u2', 'measure', 'id'}\n",
      "  q4: {'sx', 'x', 'u3', 'u1', 'rz', 'u2', 'measure', 'id'}\n",
      "  q5: {'sx', 'x', 'u3', 'u1', 'rz', 'u2', 'measure', 'id'}\n",
      "  q6: {'sx', 'x', 'u3', 'u1', 'rz', 'u2', 'measure', 'id'}\n",
      "Multi qubit instructions:\n",
      "  (0, 1): {'cx'}\n",
      "  (1, 0): {'cx'}\n",
      "  (1, 2): {'cx'}\n",
      "  (1, 3): {'cx'}\n",
      "  (2, 1): {'cx'}\n",
      "  (3, 1): {'cx'}\n",
      "  (3, 5): {'cx'}\n",
      "  (4, 5): {'scaled_rzx', 'cx'}\n",
      "  (5, 3): {'cx'}\n",
      "  (5, 4): {'cx'}\n",
      "  (5, 6): {'scaled_rzx', 'cx'}\n",
      "  (6, 5): {'cx'}\n",
      "  (0, 1, 2, 3, 4, 5, 6): {'measure'}\n",
      ")>\n"
     ]
    }
   ],
   "source": [
    "print(inst_map)"
   ]
  },
  {
   "cell_type": "markdown",
   "metadata": {},
   "source": [
    "# Depth 3"
   ]
  },
  {
   "cell_type": "code",
   "execution_count": 11,
   "metadata": {},
   "outputs": [],
   "source": [
    "def get_depth3(t):\n",
    "    \n",
    "    g1 = Gate('scaled_rzx', 2, params = [2*t1(t)] )\n",
    "    g2 = Gate('scaled_rzx', 2, params = [2*t2(t)] )\n",
    "\n",
    "\n",
    "    qregs = QuantumRegister(config.n_qubits)\n",
    "    qc = QuantumCircuit(qregs)\n",
    "\n",
    "    qc.rzx(np.pi/2, qregs[qubits[0]], qregs[qubits[1]])\n",
    "    qc.rzx(2*t, qregs[qubits[1]], qregs[qubits[2]])\n",
    "    qc.rzx(-np.pi/2, qregs[qubits[0]], qregs[qubits[1]])\n",
    "    \n",
    "    \n",
    "    return qc"
   ]
  },
  {
   "cell_type": "code",
   "execution_count": 12,
   "metadata": {},
   "outputs": [
    {
     "data": {
      "text/html": [
       "<pre style=\"word-wrap: normal;white-space: pre;background: #fff0;line-height: 1.1;font-family: &quot;Courier New&quot;,Courier,monospace\">                                            \n",
       "q0_0: ──────────────────────────────────────\n",
       "                                            \n",
       "q0_1: ──────────────────────────────────────\n",
       "                                            \n",
       "q0_2: ──────────────────────────────────────\n",
       "                                            \n",
       "q0_3: ──────────────────────────────────────\n",
       "      ┌───────────┐           ┌────────────┐\n",
       "q0_4: ┤0          ├───────────┤0           ├\n",
       "      │  RZX(π/2) │┌─────────┐│  RZX(-π/2) │\n",
       "q0_5: ┤1          ├┤0        ├┤1           ├\n",
       "      └───────────┘│  RZX(2) │└────────────┘\n",
       "q0_6: ─────────────┤1        ├──────────────\n",
       "                   └─────────┘              </pre>"
      ],
      "text/plain": [
       "                                            \n",
       "q0_0: ──────────────────────────────────────\n",
       "                                            \n",
       "q0_1: ──────────────────────────────────────\n",
       "                                            \n",
       "q0_2: ──────────────────────────────────────\n",
       "                                            \n",
       "q0_3: ──────────────────────────────────────\n",
       "      ┌───────────┐           ┌────────────┐\n",
       "q0_4: ┤0          ├───────────┤0           ├\n",
       "      │  RZX(π/2) │┌─────────┐│  RZX(-π/2) │\n",
       "q0_5: ┤1          ├┤0        ├┤1           ├\n",
       "      └───────────┘│  RZX(2) │└────────────┘\n",
       "q0_6: ─────────────┤1        ├──────────────\n",
       "                   └─────────┘              "
      ]
     },
     "execution_count": 12,
     "metadata": {},
     "output_type": "execute_result"
    }
   ],
   "source": [
    "get_depth3(1.0).draw()"
   ]
  },
  {
   "cell_type": "code",
   "execution_count": 13,
   "metadata": {},
   "outputs": [
    {
     "name": "stderr",
     "output_type": "stream",
     "text": [
      "/home/laura/.local/lib/python3.9/site-packages/qiskit/ignis/verification/tomography/basis/circuits.py:465: DeprecationWarning: The QuantumCircuit.__iadd__() method is being deprecated. Use the compose() (potentially with the inplace=True argument) and tensor() methods which are more flexible w.r.t circuit register compatibility.\n",
      "  prep += preparation(prep_label[j], prep_qubits[j])\n",
      "/home/laura/.local/lib/python3.9/site-packages/qiskit/circuit/quantumcircuit.py:876: DeprecationWarning: The QuantumCircuit.extend() method is being deprecated. Use the compose() (potentially with the inplace=True argument) and tensor() methods which are more flexible w.r.t circuit register compatibility.\n",
      "  return self.extend(rhs)\n",
      "/home/laura/.local/lib/python3.9/site-packages/qiskit/ignis/verification/tomography/basis/circuits.py:478: DeprecationWarning: The QuantumCircuit.__add__() method is being deprecated.Use the compose() method which is more flexible w.r.t circuit register compatibility.\n",
      "  circ = prep + meas\n",
      "/home/laura/.local/lib/python3.9/site-packages/qiskit/circuit/quantumcircuit.py:869: DeprecationWarning: The QuantumCircuit.combine() method is being deprecated. Use the compose() method which is more flexible w.r.t circuit register compatibility.\n",
      "  return self.combine(rhs)\n"
     ]
    }
   ],
   "source": [
    "label = \"17.June\"\n",
    "\n",
    "qpt_experiments = {}\n",
    "\n",
    "angles = [0.1, 0.15, 0.2, 0.25, 0.3, 0.35, 0.4] #[0.025, 0.05 ,0.075]  #[0.125, 0.175, 0.225]#, 0.8] #[0.1, 0.15, 0.2, 0.25, 0.3, 0.35]# [0.4, 0.45, 0.5, 0.55, 0.6]\n",
    "\n",
    "for angle in angles:\n",
    "    \n",
    "    qc = get_depth3(angle)\n",
    "    \n",
    "    qpt_circuits = process_tomography_circuits(qc, [qubits[0], qubits[1], qubits[2]])\n",
    "                                            \n",
    "    \n",
    "    qpt_circuits_transpiled = transpile(qpt_circuits, backend, basis_gates) # withou\n",
    "    qpt_schedules = schedule(qpt_circuits_transpiled, backend, inst_map)\n",
    "    \n",
    "    qpt_experiments[str(angle)] = {'pre_transpiled_circuits': qpt_circuits,\n",
    "                                   'transpiled_circuits': qpt_circuits_transpiled,\n",
    "                                   'qpt_schedules': qpt_schedules}\n",
    "    \n",
    "with open(f'results/{device_name}/{label}/depth3/qpt_exps.q4q5q6.pickle', 'wb') as handle:\n",
    "        pickle.dump(qpt_experiments, handle, protocol=pickle.HIGHEST_PROTOCOL)"
   ]
  },
  {
   "cell_type": "code",
   "execution_count": 18,
   "metadata": {},
   "outputs": [
    {
     "data": {
      "image/png": "[encoded data removed]",
      "text/plain": [
       "<Figure size 432x288 with 1 Axes>"
      ]
     },
     "metadata": {
      "needs_background": "light"
     },
     "output_type": "display_data"
    }
   ],
   "source": [
    "#measurement pulse really dominates!!!! \n",
    "\n",
    "qpt_schedule_durations = [qpt_experiments[f'{angle}']['qpt_schedules'][0].duration for angle in angles]\n",
    "\n",
    "plt.plot(angles, qpt_schedule_durations)\n",
    "plt.xlabel(r'$\\theta$: rad')\n",
    "plt.ylabel('Duration: dt')\n",
    "plt.title(r'RZ($\\theta$) via scaled pulses')\n",
    "plt.grid()\n",
    "\n",
    "#plt.savefig('plots/depth4_cost.png', transparent=False)\n",
    "plt.show()"
   ]
  },
  {
   "cell_type": "code",
   "execution_count": 19,
   "metadata": {
    "jupyter": {
     "source_hidden": true
    }
   },
   "outputs": [],
   "source": [
    "results = {}"
   ]
  },
  {
   "cell_type": "code",
   "execution_count": 20,
   "metadata": {
    "collapsed": true,
    "jupyter": {
     "outputs_hidden": true,
     "source_hidden": true
    }
   },
   "outputs": [
    {
     "name": "stdout",
     "output_type": "stream",
     "text": [
      "0.1\n"
     ]
    },
    {
     "name": "stderr",
     "output_type": "stream",
     "text": [
      "/home/laura/.local/lib/python3.9/site-packages/qiskit/compiler/assembler.py:309: RuntimeWarning: Dynamic rep rates are supported on this backend. 'rep_delay' will be used instead of 'rep_time'.\n",
      "  warnings.warn(\"Dynamic rep rates are supported on this backend. 'rep_delay' will be \"\n"
     ]
    },
    {
     "name": "stdout",
     "output_type": "stream",
     "text": [
      "0.15\n",
      "0.2\n",
      "0.25\n",
      "0.3\n",
      "0.35\n",
      "0.4\n"
     ]
    }
   ],
   "source": [
    "\n",
    "for angle in angles:\n",
    "    \n",
    "    print(angle)\n",
    "    \n",
    "    qpt_sched1 = qpt_experiments[str(angle)]['qpt_schedules'][0:900]\n",
    "    job1 = execute(qpt_sched1, backend=backend, shots=100)#,mode='dedicated')\n",
    "    \n",
    "    qpt_sched2 = qpt_experiments[str(angle)]['qpt_schedules'][900:]\n",
    "    job2 = execute(qpt_sched2, backend=backend, shots=100)#,mode='dedicated')\n",
    "    \n",
    "    result1 = job1.result()\n",
    "    result2 = job2.result()\n",
    "    \n",
    "    result3 = result1\n",
    "    result3.results = result1.results + result2.results\n",
    "    \n",
    "    results[f'{angle}'] = (result1,  result2, result3)\n",
    "    \n",
    "    with open(f'results/{device_name}/{label}/depth3/{angle}.q4q5q6.pickle', 'wb') as handle:\n",
    "        pickle.dump(result3, handle, protocol=pickle.HIGHEST_PROTOCOL)"
   ]
  },
  {
   "cell_type": "code",
   "execution_count": 25,
   "metadata": {
    "jupyter": {
     "source_hidden": true
    }
   },
   "outputs": [],
   "source": [
    "with open(f'results/{device_name}/{label}/depth3/full_results.q4q5q6.pickle', 'wb') as handle:\n",
    "        pickle.dump(results, handle, protocol=pickle.HIGHEST_PROTOCOL)"
   ]
  },
  {
   "cell_type": "code",
   "execution_count": 14,
   "metadata": {},
   "outputs": [],
   "source": [
    "with open(f'results/{device_name}/{label}/depth3/full_results.q4q5q6.pickle', 'rb') as handle:\n",
    "        results = pickle.load(handle)"
   ]
  },
  {
   "cell_type": "code",
   "execution_count": 15,
   "metadata": {},
   "outputs": [],
   "source": [
    "fidelities = {}"
   ]
  },
  {
   "cell_type": "code",
   "execution_count": 16,
   "metadata": {},
   "outputs": [
    {
     "name": "stderr",
     "output_type": "stream",
     "text": [
      "Input channel is not CP. Choi-matrix has negative eigenvalues: [-1.02287459e-04 -9.76756188e-05 -9.04982347e-05 -8.50536008e-05\n",
      " -8.01297035e-05 -7.71873952e-05 -7.26199757e-05 -6.59322942e-05\n",
      " -6.17662107e-05 -5.41003747e-05 -5.15180369e-05 -5.00605910e-05\n",
      " -4.70406443e-05 -4.47370224e-05 -4.15130735e-05 -3.70232902e-05\n",
      " -3.49242027e-05 -3.22826050e-05 -2.89696148e-05 -2.55672991e-05\n",
      " -1.89158287e-05 -1.37209515e-05 -1.29439871e-05 -8.74791398e-06\n",
      " -6.07782169e-06 -4.03178831e-06 -1.41032719e-06]\n",
      "Input channel is not TP. Tr_2[Choi] - I has non-zero eigenvalues: [-6.60130863e-05 -4.73949085e-05 -1.86435864e-05 -8.58879182e-06\n",
      "  1.21005367e-05  1.54603695e-05  3.97981126e-05  5.51919704e-05]\n",
      "Input channel is not CP. Choi-matrix has negative eigenvalues: [-1.03264775e-04 -9.15519293e-05 -8.46324457e-05 -7.84482162e-05\n",
      " -7.81100278e-05 -7.15712862e-05 -6.90414880e-05 -6.31004148e-05\n",
      " -6.15668585e-05 -5.60035358e-05 -5.35622167e-05 -5.05596068e-05\n",
      " -4.58344299e-05 -4.17518139e-05 -4.07673483e-05 -3.84062364e-05\n",
      " -3.34641986e-05 -2.92038070e-05 -2.81257838e-05 -2.42100154e-05\n",
      " -2.22384891e-05 -1.70968181e-05 -1.34749297e-05 -9.17846098e-06\n",
      " -7.82437022e-06 -5.37509874e-06 -2.25059885e-06]\n",
      "Input channel is not TP. Tr_2[Choi] - I has non-zero eigenvalues: [-8.30994087e-05 -4.42198408e-05 -2.63726061e-05 -2.00345311e-05\n",
      " -4.34755125e-06  2.42863902e-05  5.38046558e-05  9.52829764e-05]\n",
      "Input channel is not CP. Choi-matrix has negative eigenvalues: [-1.00803322e-04 -9.79973101e-05 -9.14263999e-05 -8.90249006e-05\n",
      " -7.92778527e-05 -7.73734091e-05 -7.03725323e-05 -6.77232269e-05\n",
      " -6.22972592e-05 -5.93040790e-05 -5.44282571e-05 -5.21497244e-05\n",
      " -4.77782099e-05 -4.59352662e-05 -4.12646149e-05 -3.88030633e-05\n",
      " -3.61709178e-05 -3.17722734e-05 -2.92765217e-05 -2.54804135e-05\n",
      " -2.36013571e-05 -2.19270720e-05 -1.67603161e-05 -1.52708868e-05\n",
      " -1.04171743e-05 -7.71468946e-06 -3.67751686e-06 -1.71658093e-06]\n",
      "Input channel is not TP. Tr_2[Choi] - I has non-zero eigenvalues: [-5.86322333e-05 -5.16817737e-05 -3.13772635e-05 -1.33149631e-05\n",
      "  1.26872750e-06  1.03909077e-05  3.23403183e-05  4.32623635e-05]\n",
      "Input channel is not CP. Choi-matrix has negative eigenvalues: [-1.03454786e-04 -9.24901808e-05 -8.18292139e-05 -7.99774945e-05\n",
      " -7.21213884e-05 -6.84075688e-05 -6.23026472e-05 -5.82652936e-05\n",
      " -5.56907423e-05 -5.07970236e-05 -4.50582142e-05 -4.16506154e-05\n",
      " -3.66987201e-05 -3.51796399e-05 -3.06334411e-05 -2.91812081e-05\n",
      " -2.69153177e-05 -2.41676836e-05 -1.96606066e-05 -1.71683209e-05\n",
      " -1.38413385e-05 -9.71469985e-06 -7.72692093e-06 -6.78828944e-06\n",
      " -1.85819097e-06]\n",
      "Input channel is not TP. Tr_2[Choi] - I has non-zero eigenvalues: [-9.53097039e-05 -4.64118554e-05 -3.50018292e-05 -2.18915255e-05\n",
      " -3.79783553e-06  1.52499974e-05  4.70015612e-05  9.98689084e-05]\n",
      "Input channel is not CP. Choi-matrix has negative eigenvalues: [-1.31118579e-04 -1.19889804e-04 -1.11783001e-04 -1.06434460e-04\n",
      " -1.01584147e-04 -9.10987448e-05 -8.70444165e-05 -8.02297964e-05\n",
      " -7.81889673e-05 -7.24775199e-05 -6.79631157e-05 -6.06694747e-05\n",
      " -5.83352054e-05 -5.42574876e-05 -4.62258262e-05 -4.35075647e-05\n",
      " -4.12314107e-05 -3.69767592e-05 -3.56724442e-05 -2.92399851e-05\n",
      " -2.28062070e-05 -1.89059134e-05 -1.56232591e-05 -1.19615961e-05\n",
      " -6.96440473e-06 -5.34186972e-06 -1.45810352e-06 -2.88389596e-07]\n",
      "Input channel is not TP. Tr_2[Choi] - I has non-zero eigenvalues: [-6.68782809e-05 -4.42321809e-05 -2.51093801e-05 -9.01560295e-06\n",
      "  4.36699678e-06  2.28794407e-05  5.30462094e-05  8.22606219e-05]\n",
      "Input channel is not CP. Choi-matrix has negative eigenvalues: [-9.09095174e-05 -8.02987891e-05 -6.95584778e-05 -6.66455077e-05\n",
      " -6.55343213e-05 -6.24613686e-05 -5.76273631e-05 -5.12151908e-05\n",
      " -4.70659007e-05 -4.45991645e-05 -4.30314356e-05 -3.98685885e-05\n",
      " -3.59276678e-05 -3.47351952e-05 -3.06953832e-05 -2.92328537e-05\n",
      " -2.52169302e-05 -2.29881227e-05 -1.90303438e-05 -1.80677047e-05\n",
      " -1.42673210e-05 -1.03270298e-05 -7.82592220e-06 -6.62168756e-06\n",
      " -3.23032406e-06 -3.88152037e-08]\n",
      "Input channel is not TP. Tr_2[Choi] - I has non-zero eigenvalues: [-7.12445384e-05 -6.12175512e-05 -4.80514047e-05 -1.75001885e-05\n",
      "  2.51693120e-05  5.21815364e-05  6.06853906e-05  7.85358260e-05]\n",
      "Input channel is not CP. Choi-matrix has negative eigenvalues: [-1.70146739e-04 -1.33920921e-04 -1.11217763e-04 -1.03279114e-04\n",
      " -9.71660827e-05 -9.01568204e-05 -8.52481417e-05 -8.03077880e-05\n",
      " -7.50025256e-05 -7.19593474e-05 -6.71994556e-05 -6.03040210e-05\n",
      " -5.62317228e-05 -5.10128690e-05 -4.79834483e-05 -4.22503633e-05\n",
      " -3.91944203e-05 -3.38880268e-05 -2.90180980e-05 -2.52576603e-05\n",
      " -2.13323511e-05 -1.69378071e-05 -1.21315060e-05 -1.02577659e-05\n",
      " -5.03558186e-06 -4.12688935e-06]\n",
      "Input channel is not TP. Tr_2[Choi] - I has non-zero eigenvalues: [-8.66807070e-05 -5.62043312e-05 -3.52507756e-05 -1.40768157e-05\n",
      "  7.71816469e-06  3.27063382e-05  4.84346137e-05  6.60619261e-05]\n"
     ]
    }
   ],
   "source": [
    "q3 = QuantumRegister(3) ####DID -angle #####\n",
    "\n",
    "for angle in angles:\n",
    "    \n",
    "    angle = float(angle)\n",
    "    \n",
    "    qpt_circuits = qpt_experiments[str(angle)]['transpiled_circuits']\n",
    "    \n",
    "   \n",
    "    res = results[str(angle)][2]\n",
    "    \n",
    "    process_data = ProcessTomographyFitter(res, qpt_circuits, meas_basis='Pauli', prep_basis='Pauli')\n",
    "   \n",
    "    \n",
    "    choi_fit = process_data.fit( )#method='cvx', standard_weights=True,kwargs={ \"trace_preserving\":True, \"PSD\": True})\n",
    "\n",
    "    choi_fit = choi_fit.data\n",
    "    \n",
    "   \n",
    "    ideal_circ = QuantumCircuit(q3)\n",
    "    \n",
    "    ideal_circ.rzx(np.pi/2,q3[0],q3[1])\n",
    "    \n",
    "    ideal_circ.rzx(2*angle,q3[1],q3[2])\n",
    "   \n",
    "    ideal_circ.rzx(-np.pi/2,q3[0],q3[1])\n",
    "\n",
    "#    ideal_circ.rzx(2*t1(angle),q3[1],q3[2])\n",
    "    \n",
    "   # ideal_circ.rzx(2*t1(angle),q3[0],q3[1])\n",
    "    \n",
    "   # ideal_circ.rzx(2*t2(angle),q3[1],q3[2])\n",
    "   \n",
    "   # ideal_circ.rzx(2*t2(angle),q3[0],q3[1])\n",
    "\n",
    "#    ideal_circ.rzx(2*t1(angle),q3[1],q3[2])\n",
    "  \n",
    "    \n",
    "    ideal_op_data = qi.Operator(ideal_circ).data\n",
    "        \n",
    " \n",
    "    fid = qi.process_fidelity(channel=Choi(choi_fit),target=qi.Operator(ideal_op_data)) \n",
    "  \n",
    "    fidelities[str(angle)] = fid"
   ]
  },
  {
   "cell_type": "code",
   "execution_count": 17,
   "metadata": {},
   "outputs": [],
   "source": [
    "with open(f'results/{device_name}/{label}/depth3/full_fidelities.q4q5q6.pickle', 'wb') as handle:\n",
    "        pickle.dump(fidelities, handle, protocol=pickle.HIGHEST_PROTOCOL)"
   ]
  },
  {
   "cell_type": "code",
   "execution_count": 18,
   "metadata": {},
   "outputs": [],
   "source": [
    "keys = sorted(results.keys())"
   ]
  },
  {
   "cell_type": "code",
   "execution_count": 19,
   "metadata": {},
   "outputs": [
    {
     "data": {
      "image/png": "[encoded data removed]",
      "text/plain": [
       "<Figure size 432x288 with 1 Axes>"
      ]
     },
     "metadata": {
      "needs_background": "light"
     },
     "output_type": "display_data"
    }
   ],
   "source": [
    "\n",
    "plt.plot([float(k) for k in keys],[fidelities[k] for k in keys],c='r')\n",
    "plt.xlabel(r'$\\theta$: rad')\n",
    "plt.ylabel(r'$F(\\theta)$')\n",
    "plt.title(r'Depth3 via unscaled Pulses')\n",
    "plt.grid()\n",
    "plt.savefig(f'plots/depth3.{label}.png', transparent=False)"
   ]
  },
  {
   "cell_type": "code",
   "execution_count": null,
   "metadata": {
    "jupyter": {
     "source_hidden": true
    }
   },
   "outputs": [],
   "source": [
    "label= '14.June'\n",
    "\n",
    "with open(f'results/{device_name}/{label}/depth4/full_results.q4q5q6.pickle', 'rb') as handle:\n",
    "    results14 = pickle.load(handle)\n",
    "    \n",
    "with open(f'results/{device_name}/{label}/depth4/qpt_exps.q4q5q6.pickle', 'rb') as handle:\n",
    "    qpt_experiments14 = pickle.load(handle)\n",
    "    \n",
    "label= '15.June'\n",
    "\n",
    "with open(f'results/{device_name}/{label}/depth4/full_results.q4q5q6.pickle', 'rb') as handle:\n",
    "    results15 = pickle.load(handle)\n",
    "    \n",
    "with open(f'results/{device_name}/{label}/depth4/qpt_exps.q4q5q6.pickle', 'rb') as handle:\n",
    "    qpt_experiments15 = pickle.load(handle)"
   ]
  }
 ],
 "metadata": {
  "kernelspec": {
   "display_name": "Python 3",
   "language": "python",
   "name": "python3"
  },
  "language_info": {
   "codemirror_mode": {
    "name": "ipython",
    "version": 3
   },
   "file_extension": ".py",
   "mimetype": "text/x-python",
   "name": "python",
   "nbconvert_exporter": "python",
   "pygments_lexer": "ipython3",
   "version": "3.9.5"
  }
 },
 "nbformat": 4,
 "nbformat_minor": 5
}
