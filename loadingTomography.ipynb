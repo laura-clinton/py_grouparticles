{
 "cells": [
  {
   "cell_type": "code",
   "execution_count": 3,
   "metadata": {},
   "outputs": [],
   "source": [
    "import zlib\n",
    "import pickle\n",
    "\n",
    "def compress(obj):\n",
    "    return zlib.compress(pickle.dumps(obj))\n",
    "def uncompress(obj):\n",
    "    return pickle.loads(zlib.decompress(obj))"
   ]
  },
  {
   "cell_type": "code",
   "execution_count": 4,
   "metadata": {},
   "outputs": [],
   "source": [
    "label = '25.May'\n",
    "device_name = 'ibmq_casablanca'\n",
    "\n",
    "with open(f'results/{device_name}/{label}/2q_tomography/qpt_exp_scaledCR.q4q5.pickle', 'rb') as handle:\n",
    "    qpt_experiments = pickle.load(handle)\n",
    "    \n",
    "with open(f'results/{device_name}/{label}/2q_tomography/results_scaledCR.q4q5.pickle', 'rb') as handle:\n",
    "    results = pickle.load(handle)\n",
    "    \n",
    "angles = list(results.keys())"
   ]
  },
  {
   "cell_type": "code",
   "execution_count": 7,
   "metadata": {},
   "outputs": [],
   "source": [
    "label = '24.May'\n",
    "device_name = 'ibmq_casablanca'\n",
    "\n",
    "with open(f'results/{device_name}/{label}/2q_tomography/qpt_exp_unscaledCR.q4q5.pickle', 'rb') as handle:\n",
    "    qpt_experiments = pickle.load(handle)\n",
    "    \n",
    "with open(f'results/{device_name}/{label}/2q_tomography/results_unscaledCR.q4q5.pickle', 'rb') as handle:\n",
    "    results = pickle.load(handle)\n",
    "    \n",
    "angles = list(results.keys())"
   ]
  },
  {
   "cell_type": "code",
   "execution_count": null,
   "metadata": {},
   "outputs": [],
   "source": []
  }
 ],
 "metadata": {
  "kernelspec": {
   "display_name": "Python 3",
   "language": "python",
   "name": "python3"
  },
  "language_info": {
   "codemirror_mode": {
    "name": "ipython",
    "version": 3
   },
   "file_extension": ".py",
   "mimetype": "text/x-python",
   "name": "python",
   "nbconvert_exporter": "python",
   "pygments_lexer": "ipython3",
   "version": "3.9.5"
  }
 },
 "nbformat": 4,
 "nbformat_minor": 4
}
